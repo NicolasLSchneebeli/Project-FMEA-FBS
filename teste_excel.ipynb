{
 "cells": [
  {
   "cell_type": "code",
   "execution_count": 1,
   "metadata": {},
   "outputs": [
    {
     "name": "stdout",
     "output_type": "stream",
     "text": [
      "Component created named motor\n",
      "Component created named fan\n",
      "Atribute named geometry linked to motor\n",
      "Atribute named material linked to motor\n",
      "Atribute named power linked to fan\n"
     ]
    }
   ],
   "source": [
    "from objetos import *\n",
    "from function import *\n",
    "import pandas as pd \n",
    "import random as rd\n",
    "import numpy as np\n",
    "import matplotlib.pyplot as plt\n",
    "import seaborn as sns\n",
    "from sklearn.preprocessing import MinMaxScaler\n",
    "\n",
    "list_comp,attributes=readFile(excel_file='Teste2.xlsx')\n",
    "\n",
    "names=[attr.name for attr in attributes ]\n"
   ]
  },
  {
   "cell_type": "code",
   "execution_count": 2,
   "metadata": {},
   "outputs": [
    {
     "name": "stdout",
     "output_type": "stream",
     "text": [
      "Save as Links_18_12_2023_11_22.xlsx\n"
     ]
    }
   ],
   "source": [
    "links= createMatrix(attributes_list=attributes,save_excel=True)"
   ]
  },
  {
   "cell_type": "code",
   "execution_count": null,
   "metadata": {},
   "outputs": [],
   "source": [
    "attrs=attributes\n",
    "matrix = np.zeros((len(attrs), len(attrs)), dtype=int)\n",
    "df=pd.DataFrame(matrix, columns=[f'{i.name}.{i.component.name}' for i in attributes], index=[f'{i.name}.{i.component.name}' for i in attributes])\n",
    "df_time=df.copy()\n",
    "df_risk=df.copy()"
   ]
  },
  {
   "cell_type": "code",
   "execution_count": null,
   "metadata": {},
   "outputs": [],
   "source": [
    "with pd.ExcelWriter('output.xlsx', engine='xlsxwriter') as writer:\n",
    "    # Salvar as DataFrames em diferentes planilhas\n",
    "    df_time.to_excel(writer, sheet_name='Sheet_Time')\n",
    "    df_risk.to_excel(writer, sheet_name='Sheet_Risk')"
   ]
  },
  {
   "cell_type": "code",
   "execution_count": null,
   "metadata": {},
   "outputs": [],
   "source": []
  },
  {
   "cell_type": "code",
   "execution_count": null,
   "metadata": {},
   "outputs": [
    {
     "data": {
      "text/plain": [
       "array([[[0, 0],\n",
       "        ['geometry.motor', 0],\n",
       "        ['material.motor', 0],\n",
       "        ['power.fan', 0]],\n",
       "\n",
       "       [['geometry.motor', 0],\n",
       "        [0, 0],\n",
       "        [0, 0],\n",
       "        [0, 0]],\n",
       "\n",
       "       [['material.motor', 0],\n",
       "        [0, 0],\n",
       "        [0, 0],\n",
       "        [0, 0]],\n",
       "\n",
       "       [['power.fan', 0],\n",
       "        [0, 0],\n",
       "        [0, 0],\n",
       "        [0, 0]]], dtype=object)"
      ]
     },
     "execution_count": 28,
     "metadata": {},
     "output_type": "execute_result"
    }
   ],
   "source": [
    "matrix[1:, 0, 0] =  [f'{i.name}.{i.component.name}' for i in attributes]\n",
    "\n",
    "matrix[0, 1:, 0] = [f'{i.name}.{i.component.name}' for i in attributes]\n",
    "matrix"
   ]
  },
  {
   "cell_type": "code",
   "execution_count": null,
   "metadata": {},
   "outputs": [
    {
     "data": {
      "text/plain": [
       "array([[0, 0, 'geometry.motor', 0, 'material.motor', 0, 'power.fan', 0],\n",
       "       ['geometry.motor', 0, 0, 0, 0, 0, 0, 0],\n",
       "       ['material.motor', 0, 0, 0, 0, 0, 0, 0],\n",
       "       ['power.fan', 0, 0, 0, 0, 0, 0, 0]], dtype=object)"
      ]
     },
     "execution_count": 21,
     "metadata": {},
     "output_type": "execute_result"
    }
   ],
   "source": [
    "\n"
   ]
  },
  {
   "cell_type": "code",
   "execution_count": null,
   "metadata": {},
   "outputs": [],
   "source": []
  },
  {
   "cell_type": "code",
   "execution_count": null,
   "metadata": {},
   "outputs": [
    {
     "data": {
      "text/html": [
       "<div>\n",
       "<style scoped>\n",
       "    .dataframe tbody tr th:only-of-type {\n",
       "        vertical-align: middle;\n",
       "    }\n",
       "\n",
       "    .dataframe tbody tr th {\n",
       "        vertical-align: top;\n",
       "    }\n",
       "\n",
       "    .dataframe thead th {\n",
       "        text-align: right;\n",
       "    }\n",
       "</style>\n",
       "<table border=\"1\" class=\"dataframe\">\n",
       "  <thead>\n",
       "    <tr style=\"text-align: right;\">\n",
       "      <th></th>\n",
       "      <th>0</th>\n",
       "      <th>geometry.motor</th>\n",
       "      <th>material.motor</th>\n",
       "      <th>power.fan</th>\n",
       "    </tr>\n",
       "    <tr>\n",
       "      <th>0</th>\n",
       "      <th></th>\n",
       "      <th></th>\n",
       "      <th></th>\n",
       "      <th></th>\n",
       "    </tr>\n",
       "  </thead>\n",
       "  <tbody>\n",
       "    <tr>\n",
       "      <th>0</th>\n",
       "      <td>0</td>\n",
       "      <td>geometry.motor</td>\n",
       "      <td>material.motor</td>\n",
       "      <td>power.fan</td>\n",
       "    </tr>\n",
       "    <tr>\n",
       "      <th>geometry.motor</th>\n",
       "      <td>geometry.motor</td>\n",
       "      <td>0</td>\n",
       "      <td>0</td>\n",
       "      <td>0</td>\n",
       "    </tr>\n",
       "    <tr>\n",
       "      <th>material.motor</th>\n",
       "      <td>material.motor</td>\n",
       "      <td>0</td>\n",
       "      <td>0</td>\n",
       "      <td>0</td>\n",
       "    </tr>\n",
       "    <tr>\n",
       "      <th>power.fan</th>\n",
       "      <td>power.fan</td>\n",
       "      <td>0</td>\n",
       "      <td>0</td>\n",
       "      <td>0</td>\n",
       "    </tr>\n",
       "  </tbody>\n",
       "</table>\n",
       "</div>"
      ],
      "text/plain": [
       "                             0  geometry.motor  material.motor  power.fan\n",
       "0                                                                        \n",
       "0                            0  geometry.motor  material.motor  power.fan\n",
       "geometry.motor  geometry.motor               0               0          0\n",
       "material.motor  material.motor               0               0          0\n",
       "power.fan            power.fan               0               0          0"
      ]
     },
     "execution_count": 27,
     "metadata": {},
     "output_type": "execute_result"
    }
   ],
   "source": [
    "df"
   ]
  }
 ],
 "metadata": {
  "kernelspec": {
   "display_name": "MLearning",
   "language": "python",
   "name": "python3"
  },
  "language_info": {
   "codemirror_mode": {
    "name": "ipython",
    "version": 3
   },
   "file_extension": ".py",
   "mimetype": "text/x-python",
   "name": "python",
   "nbconvert_exporter": "python",
   "pygments_lexer": "ipython3",
   "version": "3.11.7"
  }
 },
 "nbformat": 4,
 "nbformat_minor": 2
}
