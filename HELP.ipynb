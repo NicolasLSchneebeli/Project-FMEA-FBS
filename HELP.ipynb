{
 "cells": [
  {
   "cell_type": "markdown",
   "metadata": {},
   "source": [
    "\n",
    "# HELP GUIDE FOR PROTOTYPE:\n",
    "\n",
    "## Classes:\n",
    "\n",
    "There are 3 classes currently: \n",
    "\n",
    "### Components:\n",
    "\n",
    "Components are the container for the whole system: They will hold all the attributes and also be the input of the simulation as a list of components\n",
    "\n",
    "\n",
    "- Syntax: \n",
    "\n",
    "    - To create a component: $\\textcolor{red}{Component(name=\\textit{STRING})}$\n",
    "\n",
    "    - To create add an Attribute to it: $\\textcolor{red}{COMPONENT.addAttribute(name=ATTRIBUTE)}$\n",
    "\n",
    "    - To view all Attributes being currently a part of the Component: $\\textcolor{red}{COMPONENT.getAttributes()}$\n",
    "\n",
    "### Propriety:\n",
    "\n",
    "Proprieties are the main point of the simulation. Name in the program as Attributes, they are linked to each other and they generate the simulation.\n",
    "\n",
    "- Syntax: \n",
    "\n",
    "    - To create a attribute: $\\textcolor{red}{Propriety(name=\\textit{STRING},component=COMPONENT, risk=\\textit{DOUBLE})}$\n",
    "\n",
    "    - To view to which component this attribute is linked: $\\textcolor{red}{ATTRIBUTE.getComponent()}$\n",
    "\n",
    "    - To add when the Attribute failed: $\\textcolor{red}{ATTRIBUTE.addFailedTick(tick=time,data=df, origin= ORIGIN)}$ $\\\\$\n",
    "    data is the dataframe responsible to save the data for simulation,\n",
    "    origin is where the failure came from: self or infected by another via their link $\\\\$\n",
    "\n",
    "    -To infect/propagate the failure: $\\textcolor{red}{ATTRIBUTE.getInfected(origin,df)}$ $\\\\$\n",
    "    data is the dataframe responsible to save the data for simulation,\n",
    "    origin is where the failure came from: self or infected by another via their link$\\\\$\n",
    "\n",
    "    - To add different types of failure: $\\textcolor{red}{ATTRIBUTE.addFailureMode( NAMES=[LIST],Risk=[LIST])}$ $\\\\$\n",
    "    To add different types of failures to the attribute. For exemple $\\textit{Excess of ..., Loss of ...}$\n",
    "\n",
    "### Behaviour:\n",
    "\n",
    "The behaviours acts as a stop method for the simulation. Once certain criteria is done, the simulation stops its self and generates a .csv containing the pertinant info.\n",
    "\n",
    "- Syntax: \n",
    "\n",
    "    - To check the condition of the set of behaviours given as parameters: $\\textcolor{red}{BEHAVIOUR.checkCondition()}$\n",
    "\n",
    "    - To add a set of condition for the behaviour: $\\textcolor{red}{BEHAVIOUR.addCondition(Condition)}$ $\\\\$\n",
    "    Note: It has to be added one by one for now.\n",
    "\n",
    "\n"
   ]
  },
  {
   "cell_type": "markdown",
   "metadata": {},
   "source": [
    "# Preparing to simulate\n",
    "\n",
    "- You use: $\\\\$\n",
    "$\\textcolor{red}{list\\_components,list\\_attributes= readFile('EXCEL\\_FILE.xlsx')}$. \n",
    "    - The Excel sheet Probability of Failure should be a float separeted by $\\bold{dot (.)}$ \n",
    "    - It returns 2 lists: $\\textcolor{blue}{Components}$ and $\\textcolor{blue}{Attributes}$. To create the links accordinly what you desire using: \n",
    "- To create the links matrix: $\\textcolor{red}{createMatrix(attributes\\_list=attributes\\_list)}$  \n",
    "    - This will create a zeros matrix relating all the attributes to them self in a N $\\times$ N matrix. This numbers will be the identifiers of the attributes throughout the whole process. \n",
    "- To create links: $ \\textcolor{red}{createLink(matrix, attribute\\_list, attribute_1[Number], attribute_2[Number])}$ \n",
    "\n",
    "Now your link matrix is done, you can start the simulation:\n",
    "- To start the simulation: $\\textcolor{red}{State\\_machine(component\\_list,behaviour\\_list, link\\_matrix, list\\_attributes, **Number\\_of\\_interactions(default=1)}$\n",
    "    - This will start the simulation, arguments containing ** before means that they are optional and have a value by default. The others are mandatory.\n",
    "    - The simulation will output 2 csv files: 1 with criteria that stopped and containing all the attributes failures (with tick,name,component and origin (self or infect by other)). The other csv file will be the same, but without the criteria to stop.  "
   ]
  }
 ],
 "metadata": {
  "kernelspec": {
   "display_name": "MLearning",
   "language": "python",
   "name": "python3"
  },
  "language_info": {
   "codemirror_mode": {
    "name": "ipython",
    "version": 3
   },
   "file_extension": ".py",
   "mimetype": "text/x-python",
   "name": "python",
   "nbconvert_exporter": "python",
   "pygments_lexer": "ipython3",
   "version": "3.11.6"
  }
 },
 "nbformat": 4,
 "nbformat_minor": 2
}
