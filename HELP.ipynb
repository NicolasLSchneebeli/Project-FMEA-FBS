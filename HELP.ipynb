{
 "cells": [
  {
   "cell_type": "markdown",
   "metadata": {},
   "source": [
    "\n",
    "# HELP GUIDE FOR PROTOTYPE:\n",
    "\n",
    "## Classes:\n",
    "\n",
    "There are 3 classes currently: \n",
    "\n",
    "### Components:\n",
    "\n",
    "Components are the contenders for the whole system: They will hold all the attributes and also be the input of the simulation as a list of components ()\n",
    "\n",
    "\n",
    "- Syntax: \n",
    "\n",
    "    - To create a component: $\\textcolor{red}{Component(name=\\textit{STRING})}$\n",
    "\n",
    "    - To create add an Attribute to it: $\\textcolor{red}{COMPONENT.addAttribute(name=ATTRIBUTE)}$\n",
    "\n",
    "    - To view all Attributes being currently a part of the Component: $\\textcolor{red}{COMPONENT.getAttributes()}$\n",
    "\n",
    "### Propriety:\n",
    "\n",
    "Proprieties are the main point of the simulation. Name in the program as Attributes, they are linked to each other and they generate the simulation.\n",
    "\n",
    "- Syntax: \n",
    "\n",
    "    - To create a attribute: $\\textcolor{red}{Propriety(name=\\textit{STRING},component=COMPONENT, risk= double)}$\n",
    "\n",
    "    - To view to which component this attribute is linked: $\\textcolor{red}{ATTRIBUTE.getComponent()}$\n",
    "\n",
    "    - To add when the Attribute failed: $\\textcolor{red}{ATTRIBUTE.addFailedTick(tick=time,data=df, origin= ORIGIN)}$ $\\\\$\n",
    "    data is the dataframe responsible to safe the data for simulation $\\\\$\n",
    "    origin is where the failed came from: self or infected by another via their link $\\\\$\n",
    "\n",
    "    -To infect/propagate the failure: $\\textcolor{red}{ATTRIBUTE.getInfected(origin,df)}$ $\\\\$\n",
    "    data is the dataframe responsible to safe the data for simulation $\\\\$\n",
    "    origin is where the failed came from: self or infected by another via their link$\\\\$\n",
    "\n",
    "    - To add different types of failure: $\\textcolor{red}{ATTRIBUTE.addFailureMode( NAMES=[LIST],Risk=[LIST])}$ $\\\\$\n",
    "    To add different types of failures to the attribute. For exemple $\\textit{Excess of ..., Loss of ...}$\n",
    "\n",
    "### Behaviour:\n",
    "\n",
    "The behaviours acts as a stop method for the simulation. Once certain criteria is done, the simulation stops its self and generates a .csv containing the pertinant info.\n",
    "\n",
    "- Syntax: \n",
    "\n",
    "    - To check the condition of the set of behaviours given as parameters: $\\textcolor{red}{BEHAVIOUR.checkCondition()}$\n",
    "\n",
    "    - To add a set of condition for the behaviour: $\\textcolor{red}{BEHAVIOUR.addCondition(Condition)}$ $\\\\$\n",
    "    Note: It has to be added one by one for now.\n",
    "\n",
    "\n"
   ]
  },
  {
   "cell_type": "markdown",
   "metadata": {},
   "source": [
    "# COMMANDS TO USE BEFORE THE SIMULATION! \n",
    "\n",
    "After all the attributes,behaviours and componets either by inserting the excel sheet or manually are created use $\\textcolor{red}{createMatrix(componets=[LIST])}$ to create the matrix of components and use $\\textcolor{red}{createLink(matrix,attribute_list of all attributes,attribute1, attribute2, risk, time)}$. \n",
    "Maybe adding a automatic method to get the list of attributes is good, yet to be implemented.\n",
    "\n",
    "After this run: State_machine(components=LIST OF COMPONENTS, behaviour= LIST OF BEHAVIOUR, link_matrix=LINK_MATRIX, attrs= LIST OF ATTRIBUTES). The files by default will be saved in the same path as the exec of the python file is running inside a folder called Simulation\n"
   ]
  }
 ],
 "metadata": {
  "kernelspec": {
   "display_name": "MLearning",
   "language": "python",
   "name": "python3"
  },
  "language_info": {
   "codemirror_mode": {
    "name": "ipython",
    "version": 3
   },
   "file_extension": ".py",
   "mimetype": "text/x-python",
   "name": "python",
   "nbconvert_exporter": "python",
   "pygments_lexer": "ipython3",
   "version": "3.11.6"
  }
 },
 "nbformat": 4,
 "nbformat_minor": 2
}
