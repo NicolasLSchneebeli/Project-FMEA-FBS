{
 "cells": [
  {
   "cell_type": "code",
   "execution_count": 1,
   "metadata": {},
   "outputs": [],
   "source": [
    "from objetos import *\n",
    "from function import *\n",
    "import pandas as pd \n",
    "import random as rd\n",
    "import numpy as np"
   ]
  },
  {
   "cell_type": "code",
   "execution_count": 2,
   "metadata": {},
   "outputs": [],
   "source": [
    "# input_file=input(\"Please insert the name of the file\")\n",
    "\n",
    "df= pd.read_excel(\"Teste.xlsx\",header=0)\n"
   ]
  },
  {
   "cell_type": "code",
   "execution_count": 3,
   "metadata": {},
   "outputs": [
    {
     "data": {
      "text/html": [
       "<div>\n",
       "<style scoped>\n",
       "    .dataframe tbody tr th:only-of-type {\n",
       "        vertical-align: middle;\n",
       "    }\n",
       "\n",
       "    .dataframe tbody tr th {\n",
       "        vertical-align: top;\n",
       "    }\n",
       "\n",
       "    .dataframe thead th {\n",
       "        text-align: right;\n",
       "    }\n",
       "</style>\n",
       "<table border=\"1\" class=\"dataframe\">\n",
       "  <thead>\n",
       "    <tr style=\"text-align: right;\">\n",
       "      <th></th>\n",
       "      <th>Component</th>\n",
       "      <th>Attribute</th>\n",
       "      <th>Prob_of_Failure</th>\n",
       "    </tr>\n",
       "  </thead>\n",
       "  <tbody>\n",
       "    <tr>\n",
       "      <th>0</th>\n",
       "      <td>motor</td>\n",
       "      <td>ATT1</td>\n",
       "      <td>10</td>\n",
       "    </tr>\n",
       "    <tr>\n",
       "      <th>1</th>\n",
       "      <td>motor</td>\n",
       "      <td>ATT2</td>\n",
       "      <td>25</td>\n",
       "    </tr>\n",
       "    <tr>\n",
       "      <th>2</th>\n",
       "      <td>fan</td>\n",
       "      <td>ATT3</td>\n",
       "      <td>20</td>\n",
       "    </tr>\n",
       "  </tbody>\n",
       "</table>\n",
       "</div>"
      ],
      "text/plain": [
       "  Component Attribute  Prob_of_Failure\n",
       "0     motor      ATT1               10\n",
       "1     motor      ATT2               25\n",
       "2       fan      ATT3               20"
      ]
     },
     "execution_count": 3,
     "metadata": {},
     "output_type": "execute_result"
    }
   ],
   "source": [
    "df= pd.DataFrame(df)\n",
    "df2=df.groupby(df[\"Component\"])\n",
    "df.head()"
   ]
  },
  {
   "cell_type": "code",
   "execution_count": 4,
   "metadata": {},
   "outputs": [
    {
     "name": "stdout",
     "output_type": "stream",
     "text": [
      "Component created named motor\n",
      "Component created named fan\n"
     ]
    },
    {
     "data": {
      "text/plain": [
       "[<objetos.Component at 0x1c799e1d150>, <objetos.Component at 0x1c799f10f10>]"
      ]
     },
     "execution_count": 4,
     "metadata": {},
     "output_type": "execute_result"
    }
   ],
   "source": [
    "components_unique= df['Component'].unique()\n",
    "#Creating Components Objects\n",
    "list_comp = [Component(name=component_name) for component_name in components_unique]\n",
    "list_comp"
   ]
  },
  {
   "cell_type": "code",
   "execution_count": 5,
   "metadata": {},
   "outputs": [
    {
     "data": {
      "text/plain": [
       "{'motor': {'ATT1': 10, 'ATT2': 25}, 'fan': {'ATT3': 20}}"
      ]
     },
     "execution_count": 5,
     "metadata": {},
     "output_type": "execute_result"
    }
   ],
   "source": [
    "relacoes={}\n",
    "\n",
    "for index, line in df.iterrows():\n",
    "    component = line['Component']\n",
    "    attribute = line['Attribute']\n",
    "    prob_failure = line['Prob_of_Failure']\n",
    "    \n",
    "    if component not in relacoes:\n",
    "        relacoes[component] = {}\n",
    "\n",
    "    \n",
    "    relacoes[component][attribute] = prob_failure\n",
    "    \n",
    "relacoes\n"
   ]
  },
  {
   "cell_type": "code",
   "execution_count": 6,
   "metadata": {},
   "outputs": [
    {
     "name": "stdout",
     "output_type": "stream",
     "text": [
      "Atribute named ATT1 linked to motor\n",
      "Atribute named ATT2 linked to motor\n",
      "Atribute named ATT3 linked to fan\n"
     ]
    },
    {
     "data": {
      "text/plain": [
       "[<objetos.Propriety at 0x1c799e0d690>,\n",
       " <objetos.Propriety at 0x1c7a9593e10>,\n",
       " <objetos.Propriety at 0x1c7aa6a5990>]"
      ]
     },
     "execution_count": 6,
     "metadata": {},
     "output_type": "execute_result"
    }
   ],
   "source": [
    "attributos_= []\n",
    "for comp in list_comp:\n",
    "    for attr in relacoes[comp.name]:\n",
    "        attributos_.append(Propriety(component=comp, name=attr, risk=relacoes[comp.name][attr]))\n",
    "        \n",
    "attributos_"
   ]
  },
  {
   "cell_type": "markdown",
   "metadata": {},
   "source": [
    "# Adding ways that things fails!"
   ]
  },
  {
   "cell_type": "code",
   "execution_count": 7,
   "metadata": {},
   "outputs": [],
   "source": [
    "# attributos_[2].addFailureMode(['Excess','Loss'],[50,50])"
   ]
  },
  {
   "cell_type": "markdown",
   "metadata": {},
   "source": [
    "# NOTE: in this part we are supposed to add link. Don't know how to do it yet. "
   ]
  },
  {
   "cell_type": "code",
   "execution_count": 8,
   "metadata": {},
   "outputs": [
    {
     "data": {
      "text/plain": [
       "array([[[0, 0],\n",
       "        [0, 0],\n",
       "        [0, 0]],\n",
       "\n",
       "       [[0, 0],\n",
       "        [0, 0],\n",
       "        [0, 0]],\n",
       "\n",
       "       [[0, 0],\n",
       "        [0, 0],\n",
       "        [0, 0]]])"
      ]
     },
     "execution_count": 8,
     "metadata": {},
     "output_type": "execute_result"
    }
   ],
   "source": [
    "links,attrs=createMatrix(components=list_comp)\n",
    "links"
   ]
  },
  {
   "cell_type": "code",
   "execution_count": 9,
   "metadata": {},
   "outputs": [],
   "source": [
    "createLink(matrix=links,attribute1=attributos_[0], attribute2=attributos_[1],attribute_list=attributos_, time=1, risk=100 )\n"
   ]
  },
  {
   "cell_type": "code",
   "execution_count": 10,
   "metadata": {},
   "outputs": [
    {
     "name": "stdout",
     "output_type": "stream",
     "text": [
      "Behaviour created named Movement\n",
      "Created a condtion that ATT2 has to work for  Movement to continue working\n",
      "Created a condtion that ATT1 has to work for  Movement to continue working\n",
      "Behaviour created named teste\n"
     ]
    }
   ],
   "source": [
    "\n",
    "Mov=Behaviour(name=\"Movement\")\n",
    "Mov.addCondition(attributos_[1])\n",
    "Mov.addCondition(attributos_[0])\n",
    "Inf_Iteraction= Behaviour(name=\"teste\")\n",
    "\n",
    "behavi=[Mov,Inf_Iteraction]\n",
    "\n"
   ]
  },
  {
   "cell_type": "code",
   "execution_count": 11,
   "metadata": {},
   "outputs": [
    {
     "name": "stdout",
     "output_type": "stream",
     "text": [
      "[[[  0   0]\n",
      "  [100   1]\n",
      "  [  0   0]]\n",
      "\n",
      " [[100   1]\n",
      "  [  0   0]\n",
      "  [  0   0]]\n",
      "\n",
      " [[  0   0]\n",
      "  [  0   0]\n",
      "  [  0   0]]]\n",
      "============================CURRENTLY ON TICK 0===============================\n",
      "----------------------------Proprieties-------------------------------\n",
      "ATT1 from motor is Working\n",
      "ATT2 from motor is Working\n",
      "ATT3 from fan *just* failed on tick: 0\n",
      "----------------------------Behaviour-------------------------------\n",
      "Movement working\n",
      "teste working\n",
      "============================CURRENTLY ON TICK 1===============================\n",
      "----------------------------Proprieties-------------------------------\n",
      "ATT1 from motor is Working\n",
      "ATT2 from motor *just* failed on tick: 1\n",
      "ATT3 from fan failed on tick 0, which is 1 ticks ago\n",
      "----------------------------Behaviour-------------------------------\n",
      "Movement working\n",
      "teste working\n",
      "============================CURRENTLY ON TICK 2===============================\n",
      "----------------------------Proprieties-------------------------------\n",
      "ATT1 from motor is Working\n",
      "ATT2 from motor failed on tick 1, which is 1 ticks ago\n",
      "ATT1 from motor was infected by ATT2\n",
      "ATT3 from fan failed on tick 0, which is 2 ticks ago\n",
      "----------------------------Behaviour-------------------------------\n",
      "Movement has failed!\n",
      "teste working\n"
     ]
    },
    {
     "name": "stderr",
     "output_type": "stream",
     "text": [
      "c:\\Users\\nicol\\OneDrive\\Área de Trabalho\\Python\\Escaralhando\\function.py:123: FutureWarning: The frame.append method is deprecated and will be removed from pandas in a future version. Use pandas.concat instead.\n",
      "  df = df.append({'Failed Behaviour': mensagem_erro}, ignore_index=True)\n"
     ]
    },
    {
     "name": "stdout",
     "output_type": "stream",
     "text": [
      "===================================DONE================================================\n",
      "CSV saved in: Simulation/Simulation_29_11_2023_13_23.csv\n",
      "Time to complete 10.012986183166504 seconds\n",
      "[[[  0   0]\n",
      "  [100   1]\n",
      "  [  0   0]]\n",
      "\n",
      " [[100   1]\n",
      "  [  0   0]\n",
      "  [  0   0]]\n",
      "\n",
      " [[  0   0]\n",
      "  [  0   0]\n",
      "  [  0   0]]]\n",
      "[[[  0   0]\n",
      "  [100   1]\n",
      "  [  0   0]]\n",
      "\n",
      " [[100   1]\n",
      "  [  0   0]\n",
      "  [  0   0]]\n",
      "\n",
      " [[  0   0]\n",
      "  [  0   0]\n",
      "  [  0   0]]]\n"
     ]
    }
   ],
   "source": [
    "State_machine(components=list_comp,behaviour=behavi,matrix=links,attrs= attributos_)"
   ]
  },
  {
   "cell_type": "code",
   "execution_count": 13,
   "metadata": {},
   "outputs": [
    {
     "data": {
      "text/plain": [
       "array([[[0, 0],\n",
       "        [0, 0],\n",
       "        [0, 0]],\n",
       "\n",
       "       [[0, 0],\n",
       "        [0, 0],\n",
       "        [0, 0]],\n",
       "\n",
       "       [[0, 0],\n",
       "        [0, 0],\n",
       "        [0, 0]]])"
      ]
     },
     "execution_count": 13,
     "metadata": {},
     "output_type": "execute_result"
    }
   ],
   "source": [
    "links"
   ]
  }
 ],
 "metadata": {
  "kernelspec": {
   "display_name": "MLearning",
   "language": "python",
   "name": "python3"
  },
  "language_info": {
   "codemirror_mode": {
    "name": "ipython",
    "version": 3
   },
   "file_extension": ".py",
   "mimetype": "text/x-python",
   "name": "python",
   "nbconvert_exporter": "python",
   "pygments_lexer": "ipython3",
   "version": "3.11.6"
  }
 },
 "nbformat": 4,
 "nbformat_minor": 2
}
