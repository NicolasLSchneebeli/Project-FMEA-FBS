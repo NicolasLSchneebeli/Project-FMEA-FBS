{
 "cells": [
  {
   "cell_type": "code",
   "execution_count": 1,
   "metadata": {},
   "outputs": [],
   "source": [
    "from objetos import *\n",
    "from function import *\n",
    "import pandas as pd \n",
    "import random as rd\n",
    "import numpy as np\n",
    "import matplotlib.pyplot as plt\n",
    "import seaborn as sns\n",
    "from sklearn.preprocessing import MinMaxScaler\n"
   ]
  },
  {
   "cell_type": "code",
   "execution_count": 2,
   "metadata": {},
   "outputs": [
    {
     "name": "stdout",
     "output_type": "stream",
     "text": [
      "Component created named motor\n",
      "Atribute named geometry linked to motor\n",
      "Atribute named material linked to motor\n",
      "Atribute named power linked to motor\n"
     ]
    }
   ],
   "source": [
    "list_comp,attributos_=readFile(excel_file='Teste2.xlsx')"
   ]
  },
  {
   "cell_type": "code",
   "execution_count": 3,
   "metadata": {},
   "outputs": [
    {
     "data": {
      "text/plain": [
       "(3, 3, 2)"
      ]
     },
     "execution_count": 3,
     "metadata": {},
     "output_type": "execute_result"
    }
   ],
   "source": [
    "links=createMatrix(attributes_list=attributos_)\n",
    "links.shape"
   ]
  },
  {
   "cell_type": "markdown",
   "metadata": {},
   "source": [
    "### Here there are 2 options:\n",
    "- Generate random conections\n",
    "- Generate manually connections"
   ]
  },
  {
   "cell_type": "markdown",
   "metadata": {},
   "source": [
    "#### Randomly"
   ]
  },
  {
   "cell_type": "code",
   "execution_count": 11,
   "metadata": {},
   "outputs": [
    {
     "data": {
      "text/plain": [
       "array([[[ 0,  0],\n",
       "        [15,  5],\n",
       "        [23,  2]],\n",
       "\n",
       "       [[15,  5],\n",
       "        [ 0,  0],\n",
       "        [25,  5]],\n",
       "\n",
       "       [[23,  2],\n",
       "        [25,  5],\n",
       "        [ 0,  0]]])"
      ]
     },
     "execution_count": 11,
     "metadata": {},
     "output_type": "execute_result"
    }
   ],
   "source": [
    "createLinksRandom(matrix=links,attributes_list=attributos_)"
   ]
  },
  {
   "cell_type": "markdown",
   "metadata": {},
   "source": [
    "#### Manually"
   ]
  },
  {
   "cell_type": "code",
   "execution_count": 5,
   "metadata": {},
   "outputs": [],
   "source": [
    "# createLink(matrix=links,attribute1=attributos_[0], attribute2=attributos_[1],attribute_list=attributos_, time=1, risk=50 )\n",
    "# createLink(matrix=links,attribute1=attributos_[2], attribute2=attributos_[3],attribute_list=attributos_, time=2, risk=100 )\n",
    "# createLink(matrix=links,attribute1=attributos_[4], attribute2=attributos_[5],attribute_list=attributos_, time=2, risk=100 )\n",
    "# createLink(matrix=links,attribute1=attributos_[6], attribute2=attributos_[7],attribute_list=attributos_, time=1, risk=50 )\n",
    "# createLink(matrix=links,attribute1=attributos_[8], attribute2=attributos_[9],attribute_list=attributos_, time=2, risk=100 )\n",
    "# createLink(matrix=links,attribute1=attributos_[10], attribute2=attributos_[11],attribute_list=attributos_, time=2, risk=100 )\n",
    "# createLink(matrix=links,attribute1=attributos_[12], attribute2=attributos_[13],attribute_list=attributos_, time=1, risk=50 )\n",
    "# createLink(matrix=links,attribute1=attributos_[14], attribute2=attributos_[15],attribute_list=attributos_, time=2, risk=100 )\n",
    "# createLink(matrix=links,attribute1=attributos_[16], attribute2=attributos_[1],attribute_list=attributos_, time=2, risk=100 )\n",
    "# createLink(matrix=links,attribute1=attributos_[0], attribute2=attributos_[15],attribute_list=attributos_, time=1, risk=50 )\n",
    "# createLink(matrix=links,attribute1=attributos_[1], attribute2=attributos_[12],attribute_list=attributos_, time=2, risk=100 )\n",
    "# createLink(matrix=links,attribute1=attributos_[1], attribute2=attributos_[4],attribute_list=attributos_, time=2, risk=100 )\n",
    "# links"
   ]
  },
  {
   "cell_type": "markdown",
   "metadata": {},
   "source": [
    "## Creating Stop Conditions\n"
   ]
  },
  {
   "cell_type": "code",
   "execution_count": 12,
   "metadata": {},
   "outputs": [
    {
     "name": "stdout",
     "output_type": "stream",
     "text": [
      "Behaviour created named Movement\n",
      "Created a condtion that material has to work for  Movement to continue working\n",
      "Created a condtion that power has to work for  Movement to continue working\n",
      "Created a condtion that geometry has to work for  Movement to continue working\n",
      "Behaviour created named teste\n"
     ]
    }
   ],
   "source": [
    "Mov=Behaviour(name=\"Movement\")\n",
    "Mov.addCondition(attributos_[1])\n",
    "Mov.addCondition(attributos_[2])\n",
    "Mov.addCondition(attributos_[0])\n",
    "\n",
    "Inf_Iteraction= Behaviour(name=\"teste\")\n",
    "behavi=[Mov,Inf_Iteraction]"
   ]
  },
  {
   "cell_type": "code",
   "execution_count": null,
   "metadata": {},
   "outputs": [],
   "source": [
    "State_machine(components=list_comp,behaviour=behavi,link_matrix=links,attrs= attributos_,number_of_interaction=10)"
   ]
  },
  {
   "cell_type": "code",
   "execution_count": 14,
   "metadata": {},
   "outputs": [],
   "source": [
    "df= analysis(path='Simulations/Simulation_6_12_2023_14_27/Analysis/')"
   ]
  },
  {
   "cell_type": "code",
   "execution_count": 15,
   "metadata": {},
   "outputs": [
    {
     "data": {
      "text/html": [
       "<div>\n",
       "<style scoped>\n",
       "    .dataframe tbody tr th:only-of-type {\n",
       "        vertical-align: middle;\n",
       "    }\n",
       "\n",
       "    .dataframe tbody tr th {\n",
       "        vertical-align: top;\n",
       "    }\n",
       "\n",
       "    .dataframe thead th {\n",
       "        text-align: right;\n",
       "    }\n",
       "</style>\n",
       "<table border=\"1\" class=\"dataframe\">\n",
       "  <thead>\n",
       "    <tr style=\"text-align: right;\">\n",
       "      <th></th>\n",
       "      <th>Attribute.Component</th>\n",
       "      <th>Mean Tick to Fail</th>\n",
       "      <th>material.motor</th>\n",
       "      <th>power.motor</th>\n",
       "      <th>geometry.motor</th>\n",
       "    </tr>\n",
       "  </thead>\n",
       "  <tbody>\n",
       "    <tr>\n",
       "      <th>0</th>\n",
       "      <td>geometry.motor</td>\n",
       "      <td>1.7</td>\n",
       "      <td>0</td>\n",
       "      <td>2</td>\n",
       "      <td>8</td>\n",
       "    </tr>\n",
       "    <tr>\n",
       "      <th>1</th>\n",
       "      <td>material.motor</td>\n",
       "      <td>1.6</td>\n",
       "      <td>10</td>\n",
       "      <td>0</td>\n",
       "      <td>0</td>\n",
       "    </tr>\n",
       "    <tr>\n",
       "      <th>2</th>\n",
       "      <td>power.motor</td>\n",
       "      <td>1.5</td>\n",
       "      <td>0</td>\n",
       "      <td>9</td>\n",
       "      <td>1</td>\n",
       "    </tr>\n",
       "  </tbody>\n",
       "</table>\n",
       "</div>"
      ],
      "text/plain": [
       "  Attribute.Component  Mean Tick to Fail  material.motor  power.motor  \\\n",
       "0      geometry.motor                1.7               0            2   \n",
       "1      material.motor                1.6              10            0   \n",
       "2         power.motor                1.5               0            9   \n",
       "\n",
       "   geometry.motor  \n",
       "0               8  \n",
       "1               0  \n",
       "2               1  "
      ]
     },
     "execution_count": 15,
     "metadata": {},
     "output_type": "execute_result"
    }
   ],
   "source": [
    "result=countFailureMode(df=df)\n",
    "result"
   ]
  },
  {
   "cell_type": "markdown",
   "metadata": {},
   "source": [
    "Right now, think about other analysis:\n",
    "- Graphos with color code\n",
    "- Heatmap \n",
    "\n"
   ]
  },
  {
   "cell_type": "code",
   "execution_count": 16,
   "metadata": {},
   "outputs": [
    {
     "data": {
      "image/png": "[encoded data removed]",
      "text/plain": [
       "<Figure size 1000x800 with 2 Axes>"
      ]
     },
     "metadata": {},
     "output_type": "display_data"
    }
   ],
   "source": [
    "plot_heatmap(count_values=result)"
   ]
  }
 ],
 "metadata": {
  "kernelspec": {
   "display_name": "MLearning",
   "language": "python",
   "name": "python3"
  },
  "language_info": {
   "codemirror_mode": {
    "name": "ipython",
    "version": 3
   },
   "file_extension": ".py",
   "mimetype": "text/x-python",
   "name": "python",
   "nbconvert_exporter": "python",
   "pygments_lexer": "ipython3",
   "version": "3.11.7"
  }
 },
 "nbformat": 4,
 "nbformat_minor": 2
}
