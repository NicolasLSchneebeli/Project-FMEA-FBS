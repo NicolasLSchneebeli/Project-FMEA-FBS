{
 "cells": [
  {
   "cell_type": "code",
   "execution_count": 1,
   "metadata": {},
   "outputs": [],
   "source": [
    "from objetos import *\n",
    "from function import *\n",
    "import pandas as pd \n",
    "import random as rd\n",
    "import numpy as np"
   ]
  },
  {
   "cell_type": "code",
   "execution_count": 2,
   "metadata": {},
   "outputs": [],
   "source": [
    "# input_file=input(\"Please insert the name of the file\")\n",
    "\n",
    "df= pd.read_excel(\"Teste.xlsx\",header=0)\n"
   ]
  },
  {
   "cell_type": "code",
   "execution_count": 3,
   "metadata": {},
   "outputs": [
    {
     "data": {
      "text/html": [
       "<div>\n",
       "<style scoped>\n",
       "    .dataframe tbody tr th:only-of-type {\n",
       "        vertical-align: middle;\n",
       "    }\n",
       "\n",
       "    .dataframe tbody tr th {\n",
       "        vertical-align: top;\n",
       "    }\n",
       "\n",
       "    .dataframe thead th {\n",
       "        text-align: right;\n",
       "    }\n",
       "</style>\n",
       "<table border=\"1\" class=\"dataframe\">\n",
       "  <thead>\n",
       "    <tr style=\"text-align: right;\">\n",
       "      <th></th>\n",
       "      <th>Component</th>\n",
       "      <th>Attribute</th>\n",
       "      <th>Prob_of_Failure</th>\n",
       "    </tr>\n",
       "  </thead>\n",
       "  <tbody>\n",
       "    <tr>\n",
       "      <th>0</th>\n",
       "      <td>motor</td>\n",
       "      <td>geometry</td>\n",
       "      <td>13</td>\n",
       "    </tr>\n",
       "    <tr>\n",
       "      <th>1</th>\n",
       "      <td>motor</td>\n",
       "      <td>material</td>\n",
       "      <td>5</td>\n",
       "    </tr>\n",
       "    <tr>\n",
       "      <th>2</th>\n",
       "      <td>fan</td>\n",
       "      <td>geometry</td>\n",
       "      <td>50</td>\n",
       "    </tr>\n",
       "  </tbody>\n",
       "</table>\n",
       "</div>"
      ],
      "text/plain": [
       "  Component Attribute  Prob_of_Failure\n",
       "0     motor  geometry               13\n",
       "1     motor  material                5\n",
       "2       fan  geometry               50"
      ]
     },
     "execution_count": 3,
     "metadata": {},
     "output_type": "execute_result"
    }
   ],
   "source": [
    "df= pd.DataFrame(df)\n",
    "df2=df.groupby(df[\"Component\"])\n",
    "df.head()"
   ]
  },
  {
   "cell_type": "code",
   "execution_count": 4,
   "metadata": {},
   "outputs": [
    {
     "name": "stdout",
     "output_type": "stream",
     "text": [
      "Component created named motor\n",
      "Component created named fan\n"
     ]
    },
    {
     "data": {
      "text/plain": [
       "[<objetos.Component at 0x2d82c275e90>, <objetos.Component at 0x2d82c27a490>]"
      ]
     },
     "execution_count": 4,
     "metadata": {},
     "output_type": "execute_result"
    }
   ],
   "source": [
    "components_unique= df['Component'].unique()\n",
    "#Creating Components Objects\n",
    "list_comp = [Component(name=component_name) for component_name in components_unique]\n",
    "list_comp"
   ]
  },
  {
   "cell_type": "code",
   "execution_count": 5,
   "metadata": {},
   "outputs": [
    {
     "data": {
      "text/plain": [
       "{'motor': {'geometry': 13, 'material': 5}, 'fan': {'geometry': 50}}"
      ]
     },
     "execution_count": 5,
     "metadata": {},
     "output_type": "execute_result"
    }
   ],
   "source": [
    "relacoes={}\n",
    "\n",
    "for index, line in df.iterrows():\n",
    "    component = line['Component']\n",
    "    attribute = line['Attribute']\n",
    "    prob_failure = line['Prob_of_Failure']\n",
    "    \n",
    "    if component not in relacoes:\n",
    "        relacoes[component] = {}\n",
    "\n",
    "    \n",
    "    relacoes[component][attribute] = prob_failure\n",
    "    \n",
    "relacoes\n"
   ]
  },
  {
   "cell_type": "code",
   "execution_count": 6,
   "metadata": {},
   "outputs": [
    {
     "name": "stdout",
     "output_type": "stream",
     "text": [
      "Atribute named geometry linked to motor\n",
      "Atribute named material linked to motor\n",
      "Atribute named geometry linked to fan\n"
     ]
    },
    {
     "data": {
      "text/plain": [
       "[<objetos.Propriety at 0x2d82c591490>,\n",
       " <objetos.Propriety at 0x2d82c251010>,\n",
       " <objetos.Propriety at 0x2d82c260e50>]"
      ]
     },
     "execution_count": 6,
     "metadata": {},
     "output_type": "execute_result"
    }
   ],
   "source": [
    "attributos_= []\n",
    "for comp in list_comp:\n",
    "    for attr in relacoes[comp.name]:\n",
    "        attributos_.append(Propriety(component=comp, name=attr, risk=relacoes[comp.name][attr]))\n",
    "        \n",
    "attributos_"
   ]
  },
  {
   "cell_type": "markdown",
   "metadata": {},
   "source": [
    "# NOTE: in this part we are supposed to add link. Don't know how to do it yet. "
   ]
  },
  {
   "cell_type": "code",
   "execution_count": 7,
   "metadata": {},
   "outputs": [
    {
     "name": "stdout",
     "output_type": "stream",
     "text": [
      "Link created between geometry and material\n"
     ]
    },
    {
     "data": {
      "text/plain": [
       "<objetos.Link at 0x2d82c591850>"
      ]
     },
     "execution_count": 7,
     "metadata": {},
     "output_type": "execute_result"
    }
   ],
   "source": [
    "Link(attribute1=attributos_[0],attribute2=attributos_[1],risk=50,time=2)\n"
   ]
  },
  {
   "cell_type": "code",
   "execution_count": 8,
   "metadata": {},
   "outputs": [
    {
     "name": "stdout",
     "output_type": "stream",
     "text": [
      "Link created between geometry and material\n",
      "Link created between geometry and geometry\n"
     ]
    },
    {
     "data": {
      "text/plain": [
       "<objetos.Link at 0x2d82c591f50>"
      ]
     },
     "execution_count": 8,
     "metadata": {},
     "output_type": "execute_result"
    }
   ],
   "source": [
    "Link(attribute1=attributos_[2],attribute2=attributos_[1],risk=100,time=1)\n",
    "Link(attribute1=attributos_[0],attribute2=attributos_[2],risk=100,time=1)"
   ]
  },
  {
   "cell_type": "code",
   "execution_count": 9,
   "metadata": {},
   "outputs": [
    {
     "data": {
      "text/plain": [
       "[[<objetos.Propriety at 0x2d82c260e50>,\n",
       "  <objetos.Propriety at 0x2d82c251010>,\n",
       "  1,\n",
       "  100,\n",
       "  True],\n",
       " [<objetos.Propriety at 0x2d82c260e50>,\n",
       "  <objetos.Propriety at 0x2d82c591490>,\n",
       "  1,\n",
       "  100,\n",
       "  True]]"
      ]
     },
     "execution_count": 9,
     "metadata": {},
     "output_type": "execute_result"
    }
   ],
   "source": [
    "attributos_[2].link"
   ]
  },
  {
   "cell_type": "code",
   "execution_count": 10,
   "metadata": {},
   "outputs": [
    {
     "name": "stdout",
     "output_type": "stream",
     "text": [
      "Behaviour created named Movement\n",
      "Created a condtion that material has to work for  Movement to continue working\n",
      "Created a condtion that geometry has to work for  Movement to continue working\n",
      "Behaviour created named teste\n"
     ]
    }
   ],
   "source": [
    "\n",
    "Mov=Behaviour(name=\"Movement\")\n",
    "Mov.addCondition(attributos_[1])\n",
    "Mov.addCondition(attributos_[0])\n",
    "Inf_Iteraction= Behaviour(name=\"teste\")\n",
    "\n",
    "behavi=[Mov,Inf_Iteraction]\n",
    "\n"
   ]
  },
  {
   "cell_type": "code",
   "execution_count": 11,
   "metadata": {},
   "outputs": [
    {
     "name": "stdout",
     "output_type": "stream",
     "text": [
      "material\n",
      "geometry\n"
     ]
    }
   ],
   "source": [
    "for i in Mov.condition:\n",
    "    print(i.name)"
   ]
  },
  {
   "cell_type": "code",
   "execution_count": 12,
   "metadata": {},
   "outputs": [
    {
     "name": "stdout",
     "output_type": "stream",
     "text": [
      "============================CURRENTLY ON TICK 0===============================\n",
      "----------------------------Proprieties-------------------------------\n",
      "geometry from motor *just* failed on tick: 0\n",
      "material from motor is Working\n",
      "geometry from fan *just* failed on tick: 0\n",
      "----------------------------Behaviour-------------------------------\n",
      "Movement working\n",
      "teste working\n"
     ]
    },
    {
     "name": "stdout",
     "output_type": "stream",
     "text": [
      "============================CURRENTLY ON TICK 1===============================\n",
      "----------------------------Proprieties-------------------------------\n",
      "geometry from motor failed on tick 0, which is 1 ticks ago\n",
      "geometry from fan was infected by geometry\n",
      "material from motor is Working\n",
      "geometry from fan failed on tick 1, which is 0 ticks ago\n",
      "----------------------------Behaviour-------------------------------\n",
      "Movement working\n",
      "teste working\n",
      "============================CURRENTLY ON TICK 2===============================\n",
      "----------------------------Proprieties-------------------------------\n",
      "geometry from motor failed on tick 0, which is 2 ticks ago\n",
      "material from motor is Working\n",
      "geometry from fan failed on tick 1, which is 1 ticks ago\n",
      "material from motor was infected by geometry\n",
      "geometry from motor was infected by geometry\n",
      "----------------------------Behaviour-------------------------------\n",
      "Movement has failed!\n",
      "teste working\n"
     ]
    },
    {
     "name": "stderr",
     "output_type": "stream",
     "text": [
      "c:\\Users\\nicol\\OneDrive\\Área de Trabalho\\Python\\Projeto_FRANÇA\\function.py:108: FutureWarning: The frame.append method is deprecated and will be removed from pandas in a future version. Use pandas.concat instead.\n",
      "  df = df.append({'Failed Behaviour': mensagem_erro}, ignore_index=True)\n"
     ]
    },
    {
     "name": "stdout",
     "output_type": "stream",
     "text": [
      "===================================DONE================================================\n",
      "CSV saved in: Simulation/Simulation_28_11_2023_9_41.csv\n",
      "Time to complete 10.026615619659424 seconds\n"
     ]
    }
   ],
   "source": [
    "State_machine(components=list_comp,tick=0,behaviour=behavi)"
   ]
  }
 ],
 "metadata": {
  "kernelspec": {
   "display_name": "MLearning",
   "language": "python",
   "name": "python3"
  },
  "language_info": {
   "codemirror_mode": {
    "name": "ipython",
    "version": 3
   },
   "file_extension": ".py",
   "mimetype": "text/x-python",
   "name": "python",
   "nbconvert_exporter": "python",
   "pygments_lexer": "ipython3",
   "version": "3.11.6"
  }
 },
 "nbformat": 4,
 "nbformat_minor": 2
}
