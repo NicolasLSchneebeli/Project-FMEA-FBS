{
 "cells": [
  {
   "cell_type": "code",
   "execution_count": 1,
   "metadata": {},
   "outputs": [],
   "source": [
    "from objetos import *\n",
    "from function import *\n",
    "import pandas as pd \n",
    "import random as rd\n",
    "import numpy as np"
   ]
  },
  {
   "cell_type": "code",
   "execution_count": 2,
   "metadata": {},
   "outputs": [
    {
     "name": "stdout",
     "output_type": "stream",
     "text": [
      "Component created named motor\n",
      "Component created named fan\n",
      "Atribute named geometry linked to motor\n",
      "Atribute named material linked to motor\n",
      "Atribute named geometry linked to fan\n"
     ]
    }
   ],
   "source": [
    "list_comp,attributos_=readFile(excel_file='Teste.xlsx')"
   ]
  },
  {
   "cell_type": "markdown",
   "metadata": {},
   "source": [
    "## NOTE: in this part we are supposed to add link. Don't know how to do it yet. "
   ]
  },
  {
   "cell_type": "code",
   "execution_count": 4,
   "metadata": {},
   "outputs": [],
   "source": [
    "links=createMatrix(attributes_list=attributos_)\n"
   ]
  },
  {
   "cell_type": "code",
   "execution_count": 5,
   "metadata": {},
   "outputs": [
    {
     "data": {
      "text/plain": [
       "array([[[  0,   0],\n",
       "        [  0,   0],\n",
       "        [100,   1]],\n",
       "\n",
       "       [[  0,   0],\n",
       "        [  0,   0],\n",
       "        [  0,   0]],\n",
       "\n",
       "       [[100,   1],\n",
       "        [  0,   0],\n",
       "        [  0,   0]]])"
      ]
     },
     "execution_count": 5,
     "metadata": {},
     "output_type": "execute_result"
    }
   ],
   "source": [
    "createLink(matrix=links,attribute1=attributos_[0], attribute2=attributos_[2],attribute_list=attributos_, time=1, risk=100 )\n",
    "\n",
    "links"
   ]
  },
  {
   "cell_type": "markdown",
   "metadata": {},
   "source": [
    "## Creating Stop Conditions\n"
   ]
  },
  {
   "cell_type": "code",
   "execution_count": 6,
   "metadata": {},
   "outputs": [
    {
     "name": "stdout",
     "output_type": "stream",
     "text": [
      "Behaviour created named Movement\n",
      "Created a condtion that material has to work for  Movement to continue working\n",
      "Created a condtion that geometry has to work for  Movement to continue working\n",
      "Behaviour created named teste\n"
     ]
    }
   ],
   "source": [
    "Mov=Behaviour(name=\"Movement\")\n",
    "Mov.addCondition(attributos_[1])\n",
    "Mov.addCondition(attributos_[0])\n",
    "Inf_Iteraction= Behaviour(name=\"teste\")\n",
    "behavi=[Mov,Inf_Iteraction]"
   ]
  },
  {
   "cell_type": "code",
   "execution_count": 7,
   "metadata": {},
   "outputs": [
    {
     "name": "stdout",
     "output_type": "stream",
     "text": [
      "==============================ITERACTION 0 =========================\n",
      "============================CURRENTLY ON TICK 0===============================\n",
      "----------------------------Proprieties-------------------------------\n",
      "geometry from motor is Working\n",
      "material from motor *just* failed on tick: 0\n",
      "geometry from fan is Working\n",
      "----------------------------Behaviour-------------------------------\n",
      "Movement working\n",
      "teste working\n",
      "============================CURRENTLY ON TICK 1===============================\n",
      "----------------------------Proprieties-------------------------------\n",
      "geometry from motor is Working\n",
      "material from motor failed on tick 0, which is 1 ticks ago\n",
      "geometry from fan *just* failed on tick: 1\n",
      "----------------------------Behaviour-------------------------------\n",
      "Movement working\n",
      "teste working\n",
      "============================CURRENTLY ON TICK 2===============================\n",
      "----------------------------Proprieties-------------------------------\n",
      "geometry from motor is Working\n",
      "material from motor failed on tick 0, which is 2 ticks ago\n",
      "geometry from fan failed on tick 1, which is 1 ticks ago\n",
      "geometry from motor was infected by geometry\n",
      "----------------------------Behaviour-------------------------------\n",
      "Movement has failed!\n",
      "teste working\n",
      "===================================DONE================================================\n",
      "CSV saved in: Simulation/Simulation0__4_12_2023_14_59.csv\n",
      "Time to complete 0.014116764068603516 seconds\n",
      "Time to complete each tick 0.004705588022867839 seconds\n",
      "==============================ITERACTION 1 =========================\n",
      "============================CURRENTLY ON TICK 0===============================\n",
      "----------------------------Proprieties-------------------------------\n",
      "geometry from motor is Working\n",
      "material from motor is Working\n",
      "geometry from fan *just* failed on tick: 0\n",
      "----------------------------Behaviour-------------------------------\n",
      "Movement working\n",
      "teste working\n",
      "============================CURRENTLY ON TICK 1===============================\n",
      "----------------------------Proprieties-------------------------------\n",
      "geometry from motor is Working\n",
      "material from motor is Working\n",
      "geometry from fan failed on tick 0, which is 1 ticks ago\n",
      "geometry from motor was infected by geometry\n",
      "----------------------------Behaviour-------------------------------\n",
      "Movement working\n",
      "teste working\n",
      "============================CURRENTLY ON TICK 2===============================\n",
      "----------------------------Proprieties-------------------------------\n",
      "geometry from motor failed on tick 1, which is 1 ticks ago\n",
      "material from motor *just* failed on tick: 2\n",
      "geometry from fan failed on tick 0, which is 2 ticks ago\n",
      "----------------------------Behaviour-------------------------------\n",
      "Movement has failed!\n",
      "teste working\n",
      "===================================DONE================================================\n",
      "CSV saved in: Simulation/Simulation1__4_12_2023_14_59.csv\n",
      "Time to complete 0.008232355117797852 seconds\n",
      "Time to complete each tick 0.0027441183725992837 seconds\n",
      "Number of iteractions achieved!\n"
     ]
    },
    {
     "name": "stderr",
     "output_type": "stream",
     "text": [
      "c:\\Users\\nicol\\OneDrive\\Área de Trabalho\\Python\\Projeto_FRANÇA\\function.py:149: FutureWarning: The frame.append method is deprecated and will be removed from pandas in a future version. Use pandas.concat instead.\n",
      "  df = df.append({'Failed Behaviour': mensagem_erro}, ignore_index=True)\n",
      "c:\\Users\\nicol\\OneDrive\\Área de Trabalho\\Python\\Projeto_FRANÇA\\function.py:149: FutureWarning: The frame.append method is deprecated and will be removed from pandas in a future version. Use pandas.concat instead.\n",
      "  df = df.append({'Failed Behaviour': mensagem_erro}, ignore_index=True)\n"
     ]
    }
   ],
   "source": [
    "State_machine(components=list_comp,behaviour=behavi,link_matrix=links,attrs= attributos_,number_of_interaction=2)\n",
    "\n"
   ]
  },
  {
   "cell_type": "markdown",
   "metadata": {},
   "source": []
  }
 ],
 "metadata": {
  "kernelspec": {
   "display_name": "MLearning",
   "language": "python",
   "name": "python3"
  },
  "language_info": {
   "codemirror_mode": {
    "name": "ipython",
    "version": 3
   },
   "file_extension": ".py",
   "mimetype": "text/x-python",
   "name": "python",
   "nbconvert_exporter": "python",
   "pygments_lexer": "ipython3",
   "version": "3.11.6"
  }
 },
 "nbformat": 4,
 "nbformat_minor": 2
}
