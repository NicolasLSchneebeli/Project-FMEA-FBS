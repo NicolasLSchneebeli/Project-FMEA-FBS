{
 "cells": [
  {
   "cell_type": "code",
   "execution_count": 1,
   "metadata": {},
   "outputs": [],
   "source": [
    "from objetos import *\n",
    "from function import *\n",
    "import pandas as pd \n",
    "import random as rd\n",
    "import numpy as np\n",
    "import datetime as dt"
   ]
  },
  {
   "cell_type": "markdown",
   "metadata": {},
   "source": [
    "# Testing grounds:\n"
   ]
  },
  {
   "cell_type": "code",
   "execution_count": 2,
   "metadata": {},
   "outputs": [
    {
     "data": {
      "text/html": [
       "<div>\n",
       "<style scoped>\n",
       "    .dataframe tbody tr th:only-of-type {\n",
       "        vertical-align: middle;\n",
       "    }\n",
       "\n",
       "    .dataframe tbody tr th {\n",
       "        vertical-align: top;\n",
       "    }\n",
       "\n",
       "    .dataframe thead th {\n",
       "        text-align: right;\n",
       "    }\n",
       "</style>\n",
       "<table border=\"1\" class=\"dataframe\">\n",
       "  <thead>\n",
       "    <tr style=\"text-align: right;\">\n",
       "      <th></th>\n",
       "      <th>Component</th>\n",
       "      <th>Attribute</th>\n",
       "      <th>Prob_of_Failure</th>\n",
       "    </tr>\n",
       "  </thead>\n",
       "  <tbody>\n",
       "    <tr>\n",
       "      <th>0</th>\n",
       "      <td>motor</td>\n",
       "      <td>geometry</td>\n",
       "      <td>0</td>\n",
       "    </tr>\n",
       "    <tr>\n",
       "      <th>1</th>\n",
       "      <td>motor</td>\n",
       "      <td>material</td>\n",
       "      <td>50</td>\n",
       "    </tr>\n",
       "    <tr>\n",
       "      <th>2</th>\n",
       "      <td>fan</td>\n",
       "      <td>geometry</td>\n",
       "      <td>50</td>\n",
       "    </tr>\n",
       "  </tbody>\n",
       "</table>\n",
       "</div>"
      ],
      "text/plain": [
       "  Component Attribute  Prob_of_Failure\n",
       "0     motor  geometry                0\n",
       "1     motor  material               50\n",
       "2       fan  geometry               50"
      ]
     },
     "execution_count": 2,
     "metadata": {},
     "output_type": "execute_result"
    }
   ],
   "source": [
    "df= pd.DataFrame(pd.read_excel(\"Teste.xlsx\",header=0))\n",
    "df"
   ]
  },
  {
   "cell_type": "code",
   "execution_count": 3,
   "metadata": {},
   "outputs": [
    {
     "name": "stdout",
     "output_type": "stream",
     "text": [
      "Component created named motor\n",
      "Component created named fan\n"
     ]
    },
    {
     "data": {
      "text/plain": [
       "[<objetos.Component at 0x1e0af0992d0>, <objetos.Component at 0x1e0af09b8d0>]"
      ]
     },
     "execution_count": 3,
     "metadata": {},
     "output_type": "execute_result"
    }
   ],
   "source": [
    "components_unique= df['Component'].unique()\n",
    "#Creating Components Objects\n",
    "list_comp = [Component(name=component_name) for component_name in components_unique]\n",
    "list_comp"
   ]
  },
  {
   "cell_type": "code",
   "execution_count": 4,
   "metadata": {},
   "outputs": [
    {
     "data": {
      "text/plain": [
       "{'motor': {'geometry': 0, 'material': 50}, 'fan': {'geometry': 50}}"
      ]
     },
     "execution_count": 4,
     "metadata": {},
     "output_type": "execute_result"
    }
   ],
   "source": [
    "relacoes={}\n",
    "\n",
    "for index, line in df.iterrows():\n",
    "    component = line['Component']\n",
    "    attribute = line['Attribute']\n",
    "    prob_failure = line['Prob_of_Failure']\n",
    "    \n",
    "    if component not in relacoes:\n",
    "        relacoes[component] = {}\n",
    "\n",
    "    \n",
    "    relacoes[component][attribute] = prob_failure\n",
    "    \n",
    "relacoes"
   ]
  },
  {
   "cell_type": "code",
   "execution_count": 5,
   "metadata": {},
   "outputs": [
    {
     "name": "stdout",
     "output_type": "stream",
     "text": [
      "Atribute named geometry linked to motor\n",
      "Atribute named material linked to motor\n",
      "Atribute named geometry linked to fan\n"
     ]
    },
    {
     "data": {
      "text/plain": [
       "[<objetos.Propriety at 0x1e0aeb4e690>,\n",
       " <objetos.Propriety at 0x1e0af082010>,\n",
       " <objetos.Propriety at 0x1e0af091790>]"
      ]
     },
     "execution_count": 5,
     "metadata": {},
     "output_type": "execute_result"
    }
   ],
   "source": [
    "attributos_= []\n",
    "for comp in list_comp:\n",
    "    for attr in relacoes[comp.name]:\n",
    "        attributos_.append(Propriety(component=comp, name=attr, risk=relacoes[comp.name][attr]))\n",
    "        \n",
    "attributos_"
   ]
  },
  {
   "cell_type": "code",
   "execution_count": 6,
   "metadata": {},
   "outputs": [
    {
     "data": {
      "text/plain": [
       "array([[[0, 0],\n",
       "        [0, 0],\n",
       "        [0, 0]],\n",
       "\n",
       "       [[0, 0],\n",
       "        [0, 0],\n",
       "        [0, 0]],\n",
       "\n",
       "       [[0, 0],\n",
       "        [0, 0],\n",
       "        [0, 0]]])"
      ]
     },
     "execution_count": 6,
     "metadata": {},
     "output_type": "execute_result"
    }
   ],
   "source": [
    "links,attrs=createMatrix(components=list_comp)\n",
    "links"
   ]
  },
  {
   "cell_type": "code",
   "execution_count": 7,
   "metadata": {},
   "outputs": [],
   "source": [
    "createLink(matrix=links,attribute1=attributos_[0], attribute2=attributos_[2],attribute_list=attributos_, time=1, risk=100 )\n"
   ]
  },
  {
   "cell_type": "code",
   "execution_count": 8,
   "metadata": {},
   "outputs": [
    {
     "name": "stdout",
     "output_type": "stream",
     "text": [
      "Behaviour created named Movement\n",
      "Created a condtion that material has to work for  Movement to continue working\n",
      "Created a condtion that geometry has to work for  Movement to continue working\n",
      "Behaviour created named teste\n"
     ]
    }
   ],
   "source": [
    "\n",
    "Mov=Behaviour(name=\"Movement\")\n",
    "Mov.addCondition(attributos_[1])\n",
    "Mov.addCondition(attributos_[0])\n",
    "Inf_Iteraction= Behaviour(name=\"teste\")\n",
    "\n",
    "behavi=[Mov,Inf_Iteraction]\n",
    "\n"
   ]
  },
  {
   "cell_type": "code",
   "execution_count": 9,
   "metadata": {},
   "outputs": [],
   "source": [
    "df_= pd.DataFrame(columns= ['Tick','Attribute','Component','Origin'])\n"
   ]
  },
  {
   "cell_type": "code",
   "execution_count": 10,
   "metadata": {},
   "outputs": [
    {
     "data": {
      "text/plain": [
       "'material'"
      ]
     },
     "execution_count": 10,
     "metadata": {},
     "output_type": "execute_result"
    }
   ],
   "source": [
    "attributos_[1].name"
   ]
  },
  {
   "cell_type": "code",
   "execution_count": null,
   "metadata": {},
   "outputs": [],
   "source": []
  },
  {
   "cell_type": "code",
   "execution_count": 17,
   "metadata": {},
   "outputs": [
    {
     "name": "stdout",
     "output_type": "stream",
     "text": [
      "geometry was responsible\n"
     ]
    },
    {
     "data": {
      "text/html": [
       "<div>\n",
       "<style scoped>\n",
       "    .dataframe tbody tr th:only-of-type {\n",
       "        vertical-align: middle;\n",
       "    }\n",
       "\n",
       "    .dataframe tbody tr th {\n",
       "        vertical-align: top;\n",
       "    }\n",
       "\n",
       "    .dataframe thead th {\n",
       "        text-align: right;\n",
       "    }\n",
       "</style>\n",
       "<table border=\"1\" class=\"dataframe\">\n",
       "  <thead>\n",
       "    <tr style=\"text-align: right;\">\n",
       "      <th></th>\n",
       "      <th>Tick</th>\n",
       "      <th>Attribute</th>\n",
       "      <th>Component</th>\n",
       "      <th>Origin</th>\n",
       "    </tr>\n",
       "  </thead>\n",
       "  <tbody>\n",
       "    <tr>\n",
       "      <th>0</th>\n",
       "      <td>10</td>\n",
       "      <td>geometry</td>\n",
       "      <td>fan</td>\n",
       "      <td>material from motor</td>\n",
       "    </tr>\n",
       "    <tr>\n",
       "      <th>1</th>\n",
       "      <td>10</td>\n",
       "      <td>geometry</td>\n",
       "      <td>fan</td>\n",
       "      <td>self</td>\n",
       "    </tr>\n",
       "    <tr>\n",
       "      <th>2</th>\n",
       "      <td>10</td>\n",
       "      <td>geometry</td>\n",
       "      <td>fan</td>\n",
       "      <td>self</td>\n",
       "    </tr>\n",
       "    <tr>\n",
       "      <th>3</th>\n",
       "      <td>10</td>\n",
       "      <td>geometry</td>\n",
       "      <td>fan</td>\n",
       "      <td>material from motor</td>\n",
       "    </tr>\n",
       "    <tr>\n",
       "      <th>4</th>\n",
       "      <td>10</td>\n",
       "      <td>geometry</td>\n",
       "      <td>fan</td>\n",
       "      <td>self</td>\n",
       "    </tr>\n",
       "  </tbody>\n",
       "</table>\n",
       "</div>"
      ],
      "text/plain": [
       "   Tick Attribute Component               Origin\n",
       "0    10  geometry       fan  material from motor\n",
       "1    10  geometry       fan                 self\n",
       "2    10  geometry       fan                 self\n",
       "3    10  geometry       fan  material from motor\n",
       "4    10  geometry       fan                 self"
      ]
     },
     "execution_count": 17,
     "metadata": {},
     "output_type": "execute_result"
    }
   ],
   "source": [
    "attributos_[2].addFailedTick(tick=10,origin=attributos_[0],data=df_)\n",
    "df_"
   ]
  },
  {
   "cell_type": "code",
   "execution_count": 14,
   "metadata": {},
   "outputs": [
    {
     "data": {
      "text/plain": [
       "'geometry'"
      ]
     },
     "execution_count": 14,
     "metadata": {},
     "output_type": "execute_result"
    }
   ],
   "source": [
    "attributos_[2].source.name"
   ]
  }
 ],
 "metadata": {
  "kernelspec": {
   "display_name": "MLearning",
   "language": "python",
   "name": "python3"
  },
  "language_info": {
   "codemirror_mode": {
    "name": "ipython",
    "version": 3
   },
   "file_extension": ".py",
   "mimetype": "text/x-python",
   "name": "python",
   "nbconvert_exporter": "python",
   "pygments_lexer": "ipython3",
   "version": "3.11.6"
  }
 },
 "nbformat": 4,
 "nbformat_minor": 2
}
