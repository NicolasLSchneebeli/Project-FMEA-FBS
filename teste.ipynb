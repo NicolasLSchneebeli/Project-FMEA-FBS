{
 "cells": [
  {
   "cell_type": "code",
   "execution_count": 1,
   "metadata": {},
   "outputs": [],
   "source": [
    "from objetos import *\n",
    "from function import *\n",
    "import pandas as pd \n",
    "import random as rd\n",
    "import numpy as np"
   ]
  },
  {
   "cell_type": "markdown",
   "metadata": {},
   "source": [
    "# Testing grounds:\n"
   ]
  },
  {
   "cell_type": "markdown",
   "metadata": {},
   "source": [
    "## Teste 1 "
   ]
  },
  {
   "cell_type": "code",
   "execution_count": 2,
   "metadata": {},
   "outputs": [],
   "source": [
    "motor=\"Motor\"\n",
    "motor1=\"Motor\""
   ]
  },
  {
   "cell_type": "code",
   "execution_count": 3,
   "metadata": {},
   "outputs": [
    {
     "data": {
      "text/plain": [
       "'Two or more components with the same name! \\n Try adding numbers. F.e. Motor1 and Motor2 or more specific names '"
      ]
     },
     "execution_count": 3,
     "metadata": {},
     "output_type": "execute_result"
    }
   ],
   "source": [
    "comp=[ motor, motor1]\n",
    "comp_= set()\n",
    "for c in comp:\n",
    "    if c.lower() in comp_:\n",
    "        erro= ('Two or more components with the same name! \\n Try adding numbers. F.e. Motor1 and Motor2 or more specific names ')\n",
    "    else:\n",
    "            comp_.add(c.lower())\n",
    "\n",
    "erro\n"
   ]
  },
  {
   "cell_type": "code",
   "execution_count": 4,
   "metadata": {},
   "outputs": [
    {
     "name": "stdout",
     "output_type": "stream",
     "text": [
      "Component created named Teste\n",
      "Component created named Teste2\n"
     ]
    }
   ],
   "source": [
    "teste=Component(name=\"Teste\")\n",
    "teste2=Component(name=\"Teste2\")"
   ]
  },
  {
   "cell_type": "code",
   "execution_count": 5,
   "metadata": {},
   "outputs": [
    {
     "name": "stdout",
     "output_type": "stream",
     "text": [
      "Empty\n",
      "Empty\n"
     ]
    }
   ],
   "source": [
    "comp= [teste,teste2]\n",
    "for c in comp:\n",
    "    if c.attribute== []:\n",
    "        print('Empty')"
   ]
  },
  {
   "cell_type": "markdown",
   "metadata": {},
   "source": [
    "## Teste 2"
   ]
  },
  {
   "cell_type": "code",
   "execution_count": 6,
   "metadata": {},
   "outputs": [
    {
     "name": "stdout",
     "output_type": "stream",
     "text": [
      "Component created named Motor\n",
      "Atribute named Geometry linked to Motor\n",
      "Atribute named Material linked to Motor\n",
      "Link created between Geometry and Material\n",
      "There is a link between Material (FROM: Motor) and Geometry (FROM: Motor) with risk 10\n"
     ]
    },
    {
     "data": {
      "text/plain": [
       "[[<objetos.Propriety at 0x2d983256710>,\n",
       "  <objetos.Propriety at 0x2d992ed8e50>,\n",
       "  1,\n",
       "  10,\n",
       "  True]]"
      ]
     },
     "execution_count": 6,
     "metadata": {},
     "output_type": "execute_result"
    }
   ],
   "source": [
    "motor= Component(name=\"Motor\")\n",
    "geometry= Propriety(name=\"Geometry\", component= motor,risk=10)\n",
    "material= Propriety(name=\"Material\",component= motor, risk=10)\n",
    "Link(time=1, attribute1=geometry, attribute2=material,risk=10)\n",
    "material.getLinks()"
   ]
  },
  {
   "cell_type": "code",
   "execution_count": 12,
   "metadata": {},
   "outputs": [
    {
     "name": "stdout",
     "output_type": "stream",
     "text": [
      "Behaviour created named Movement\n",
      "Created a condtion that Material has to work for  Movement to continue working\n",
      "Created a condtion that Geometry has to work for  Movement to continue working\n"
     ]
    },
    {
     "ename": "AttributeError",
     "evalue": "'Behaviour' object has no attribute 'c_state'",
     "output_type": "error",
     "traceback": [
      "\u001b[1;31m---------------------------------------------------------------------------\u001b[0m",
      "\u001b[1;31mAttributeError\u001b[0m                            Traceback (most recent call last)",
      "\u001b[1;32mc:\\Users\\nicol\\OneDrive\\Área de Trabalho\\Python\\Projeto_FRANÇA\\teste.ipynb Célula 10\u001b[0m line \u001b[0;36m4\n\u001b[0;32m      <a href='vscode-notebook-cell:/c%3A/Users/nicol/OneDrive/%C3%81rea%20de%20Trabalho/Python/Projeto_FRAN%C3%87A/teste.ipynb#X14sZmlsZQ%3D%3D?line=1'>2</a>\u001b[0m Mov\u001b[39m.\u001b[39maddCondition(material)\n\u001b[0;32m      <a href='vscode-notebook-cell:/c%3A/Users/nicol/OneDrive/%C3%81rea%20de%20Trabalho/Python/Projeto_FRAN%C3%87A/teste.ipynb#X14sZmlsZQ%3D%3D?line=2'>3</a>\u001b[0m Mov\u001b[39m.\u001b[39maddCondition(geometry)\n\u001b[1;32m----> <a href='vscode-notebook-cell:/c%3A/Users/nicol/OneDrive/%C3%81rea%20de%20Trabalho/Python/Projeto_FRAN%C3%87A/teste.ipynb#X14sZmlsZQ%3D%3D?line=3'>4</a>\u001b[0m Mov\u001b[39m.\u001b[39;49mc_state\n",
      "\u001b[1;31mAttributeError\u001b[0m: 'Behaviour' object has no attribute 'c_state'"
     ]
    }
   ],
   "source": [
    "Mov=Behaviour(name=\"Movement\")\n",
    "Mov.addCondition(material)\n",
    "Mov.addCondition(geometry)\n",
    "Mov.c_state"
   ]
  },
  {
   "cell_type": "code",
   "execution_count": 10,
   "metadata": {},
   "outputs": [
    {
     "name": "stdout",
     "output_type": "stream",
     "text": [
      "----------------------------TICK 0-------------------------------\n",
      "Geometry from Motor is Working\n",
      "Material from Motor is Working\n",
      "Movement working\n",
      "----------------------------TICK 1-------------------------------\n",
      "Geometry from Motor *just* failed on tick: 1\n",
      "Material from Motor is Working\n",
      "Movement has failed!\n"
     ]
    }
   ],
   "source": [
    "#conferir pq caralhos falha com 1 erro só e pq o c_state não reseta a cada simulação!\n",
    "State_machine(components=[motor], tick=0 , behaviour=Mov)"
   ]
  }
 ],
 "metadata": {
  "kernelspec": {
   "display_name": "MLearning",
   "language": "python",
   "name": "python3"
  },
  "language_info": {
   "codemirror_mode": {
    "name": "ipython",
    "version": 3
   },
   "file_extension": ".py",
   "mimetype": "text/x-python",
   "name": "python",
   "nbconvert_exporter": "python",
   "pygments_lexer": "ipython3",
   "version": "3.11.6"
  }
 },
 "nbformat": 4,
 "nbformat_minor": 2
}
