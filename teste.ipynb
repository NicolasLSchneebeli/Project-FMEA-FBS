{
 "cells": [
  {
   "cell_type": "code",
   "execution_count": 1,
   "metadata": {},
   "outputs": [],
   "source": [
    "from objetos import *\n",
    "import pandas as pd \n",
    "import random as rd\n",
    "import numpy as np"
   ]
  },
  {
   "cell_type": "code",
   "execution_count": 2,
   "metadata": {},
   "outputs": [],
   "source": [
    "# input_file=input(\"Please insert the name of the file\")\n",
    "\n",
    "df= pd.read_excel(\"Teste.xlsx\",header=0)\n"
   ]
  },
  {
   "cell_type": "code",
   "execution_count": 3,
   "metadata": {},
   "outputs": [
    {
     "data": {
      "text/html": [
       "<div>\n",
       "<style scoped>\n",
       "    .dataframe tbody tr th:only-of-type {\n",
       "        vertical-align: middle;\n",
       "    }\n",
       "\n",
       "    .dataframe tbody tr th {\n",
       "        vertical-align: top;\n",
       "    }\n",
       "\n",
       "    .dataframe thead th {\n",
       "        text-align: right;\n",
       "    }\n",
       "</style>\n",
       "<table border=\"1\" class=\"dataframe\">\n",
       "  <thead>\n",
       "    <tr style=\"text-align: right;\">\n",
       "      <th></th>\n",
       "      <th>Component</th>\n",
       "      <th>Attribute</th>\n",
       "      <th>Prob_of_Failure</th>\n",
       "    </tr>\n",
       "  </thead>\n",
       "  <tbody>\n",
       "    <tr>\n",
       "      <th>0</th>\n",
       "      <td>motor</td>\n",
       "      <td>geometry</td>\n",
       "      <td>0.13</td>\n",
       "    </tr>\n",
       "    <tr>\n",
       "      <th>1</th>\n",
       "      <td>motor</td>\n",
       "      <td>material</td>\n",
       "      <td>0.05</td>\n",
       "    </tr>\n",
       "    <tr>\n",
       "      <th>2</th>\n",
       "      <td>motor</td>\n",
       "      <td>power</td>\n",
       "      <td>0.17</td>\n",
       "    </tr>\n",
       "    <tr>\n",
       "      <th>3</th>\n",
       "      <td>motor</td>\n",
       "      <td>temperature</td>\n",
       "      <td>0.25</td>\n",
       "    </tr>\n",
       "    <tr>\n",
       "      <th>4</th>\n",
       "      <td>motor</td>\n",
       "      <td>rot.speed</td>\n",
       "      <td>0.43</td>\n",
       "    </tr>\n",
       "  </tbody>\n",
       "</table>\n",
       "</div>"
      ],
      "text/plain": [
       "  Component    Attribute  Prob_of_Failure\n",
       "0     motor     geometry             0.13\n",
       "1     motor     material             0.05\n",
       "2     motor        power             0.17\n",
       "3     motor  temperature             0.25\n",
       "4     motor    rot.speed             0.43"
      ]
     },
     "execution_count": 3,
     "metadata": {},
     "output_type": "execute_result"
    }
   ],
   "source": [
    "df= pd.DataFrame(df)\n",
    "df2=df.groupby(df[\"Component\"])\n",
    "df.head()"
   ]
  },
  {
   "cell_type": "code",
   "execution_count": 4,
   "metadata": {},
   "outputs": [],
   "source": [
    "# components_unique= df['Component'].unique()\n",
    "# components_unique\n",
    "# #Creating Components Objects\n",
    "# list_comp = [Component(name=component_name) for component_name in components_unique]\n"
   ]
  },
  {
   "cell_type": "code",
   "execution_count": 5,
   "metadata": {},
   "outputs": [],
   "source": [
    "relacoes={}\n",
    "\n",
    "for index, line in df.iterrows():\n",
    "    component = line['Component']\n",
    "    attribute = line['Attribute']\n",
    "    prob_failure = line['Prob_of_Failure']\n",
    "    \n",
    "    if component not in relacoes:\n",
    "        relacoes[component] = {}\n",
    "\n",
    "    \n",
    "    relacoes[component][attribute] = prob_failure\n"
   ]
  },
  {
   "cell_type": "code",
   "execution_count": 6,
   "metadata": {},
   "outputs": [
    {
     "name": "stdout",
     "output_type": "stream",
     "text": [
      "Component created named motor\n",
      "Component created named fan\n",
      "Component created named heater\n",
      "Component created named nozzle\n",
      "Component created named body\n"
     ]
    },
    {
     "data": {
      "text/plain": [
       "[<objetos.Component at 0x2875c817390>,\n",
       " <objetos.Component at 0x2875c5c8d50>,\n",
       " <objetos.Component at 0x2876b262210>,\n",
       " <objetos.Component at 0x2876d0bd7d0>,\n",
       " <objetos.Component at 0x2876d0beb90>]"
      ]
     },
     "execution_count": 6,
     "metadata": {},
     "output_type": "execute_result"
    }
   ],
   "source": [
    "list_comp= df['Component'].unique()\n",
    "\n",
    "\n",
    "component_objects = [Component(name=comp) for comp in list_comp]\n",
    "component_objects"
   ]
  },
  {
   "cell_type": "code",
   "execution_count": 7,
   "metadata": {},
   "outputs": [
    {
     "name": "stdout",
     "output_type": "stream",
     "text": [
      "Atribute named geometry linked to motor\n",
      "Attribute created named geometry part of motor\n",
      "Atribute named material linked to motor\n",
      "Attribute created named material part of motor\n",
      "Atribute named power linked to motor\n",
      "Attribute created named power part of motor\n",
      "Atribute named temperature linked to motor\n",
      "Attribute created named temperature part of motor\n",
      "Atribute named rot.speed linked to motor\n",
      "Attribute created named rot.speed part of motor\n",
      "Atribute named geometry linked to fan\n",
      "Attribute created named geometry part of fan\n",
      "Atribute named rot.speed linked to fan\n",
      "Attribute created named rot.speed part of fan\n",
      "Atribute named power linked to fan\n",
      "Attribute created named power part of fan\n",
      "Atribute named material linked to fan\n",
      "Attribute created named material part of fan\n",
      "Atribute named geometry linked to heater\n",
      "Attribute created named geometry part of heater\n",
      "Atribute named material linked to heater\n",
      "Attribute created named material part of heater\n",
      "Atribute named power linked to heater\n",
      "Attribute created named power part of heater\n",
      "Atribute named temperature linked to heater\n",
      "Attribute created named temperature part of heater\n",
      "Atribute named geometry linked to nozzle\n",
      "Attribute created named geometry part of nozzle\n",
      "Atribute named material linked to nozzle\n",
      "Attribute created named material part of nozzle\n",
      "Atribute named temperature linked to nozzle\n",
      "Attribute created named temperature part of nozzle\n",
      "Atribute named material linked to body\n",
      "Attribute created named material part of body\n",
      "Atribute named geometry linked to body\n",
      "Attribute created named geometry part of body\n"
     ]
    }
   ],
   "source": [
    "attributos_= []\n",
    "for comp in component_objects:\n",
    "    for attr in relacoes[comp.name]:\n",
    "        attributos_.append(Propriety(component=comp, name=attr, risk=relacoes[comp.name][attr]))"
   ]
  },
  {
   "cell_type": "markdown",
   "metadata": {},
   "source": [
    "#### Now we are suppose to create link. Dont know how to do it yet (Perhaps a website)"
   ]
  },
  {
   "cell_type": "code",
   "execution_count": 8,
   "metadata": {},
   "outputs": [
    {
     "name": "stdout",
     "output_type": "stream",
     "text": [
      "Component created named Motor\n",
      "Atribute named Geometry linked to Motor\n",
      "Attribute created named Geometry part of Motor\n",
      "Atribute named Material linked to Motor\n",
      "Attribute created named Material part of Motor\n",
      "Atribute named Temperature linked to Motor\n",
      "Attribute created named Temperature part of Motor\n",
      "Component created named Fan\n",
      "Atribute named Geometry linked to Fan\n",
      "Attribute created named Geometry part of Fan\n",
      "Link created between Geometry and Material\n",
      "Link created between Geometry and Material\n",
      "Link created between Material and Temperature\n",
      "[[<objetos.Propriety object at 0x000002876D0CC510>, 100, <objetos.Propriety object at 0x000002876D0CE890>, 1], [<objetos.Propriety object at 0x000002876D0CC510>, 100, <objetos.Propriety object at 0x000002876D0CE010>, 2], [<objetos.Propriety object at 0x000002876D0CC510>, 100, <objetos.Propriety object at 0x000002876D0CF390>, 3]]\n"
     ]
    }
   ],
   "source": [
    "Motor=Component(name=\"Motor\")\n",
    "GeometryMotor=Propriety(name=\"Geometry\", component=Motor,risk=0)\n",
    "MaterialMotor=Propriety(name=\"Material\", component=Motor,risk=0)\n",
    "TemperatureMotor=Propriety(name=\"Temperature\", component=Motor,risk=0)\n",
    "\n",
    "fan= Component(name=\"Fan\")\n",
    "GeometryFan= Propriety(name=\"Geometry\", component=fan,risk=100)\n",
    "\n",
    "\n",
    "\n",
    "Link(time=1, attribute1=GeometryFan,attribute2=MaterialMotor,risk=100)\n",
    "Link(time=2,attribute1=GeometryMotor,attribute2=MaterialMotor,risk=100)\n",
    "Link(time=3,attribute1=MaterialMotor,attribute2=TemperatureMotor,risk=100)\n",
    "\n",
    "# print(MaterialMotor.getLinks())\n",
    "            \n",
    "            \n",
    "teste= MaterialMotor.link\n",
    "print(teste)       "
   ]
  },
  {
   "cell_type": "code",
   "execution_count": 11,
   "metadata": {},
   "outputs": [
    {
     "data": {
      "text/plain": [
       "[[<objetos.Propriety at 0x2876d0ce890>,\n",
       "  100,\n",
       "  <objetos.Propriety at 0x2876d0cc510>,\n",
       "  1]]"
      ]
     },
     "execution_count": 11,
     "metadata": {},
     "output_type": "execute_result"
    }
   ],
   "source": [
    "GeometryFan.link"
   ]
  },
  {
   "cell_type": "code",
   "execution_count": 16,
   "metadata": {},
   "outputs": [],
   "source": [
    "GeometryFan.link[0][2].getInfected(t=0)"
   ]
  },
  {
   "cell_type": "code",
   "execution_count": 18,
   "metadata": {},
   "outputs": [
    {
     "data": {
      "text/plain": [
       "'Material'"
      ]
     },
     "execution_count": 18,
     "metadata": {},
     "output_type": "execute_result"
    }
   ],
   "source": [
    "GeometryFan.link[0][2].name"
   ]
  },
  {
   "cell_type": "code",
   "execution_count": 20,
   "metadata": {},
   "outputs": [
    {
     "data": {
      "text/plain": [
       "False"
      ]
     },
     "execution_count": 20,
     "metadata": {},
     "output_type": "execute_result"
    }
   ],
   "source": [
    "GeometryFan.link[0][2].state"
   ]
  },
  {
   "cell_type": "code",
   "execution_count": 24,
   "metadata": {},
   "outputs": [
    {
     "data": {
      "text/plain": [
       "1"
      ]
     },
     "execution_count": 24,
     "metadata": {},
     "output_type": "execute_result"
    }
   ],
   "source": [
    "vector_link = np.asarray(GeometryFan.link)\n",
    "len(vector_link)"
   ]
  }
 ],
 "metadata": {
  "kernelspec": {
   "display_name": "MLearning",
   "language": "python",
   "name": "python3"
  },
  "language_info": {
   "codemirror_mode": {
    "name": "ipython",
    "version": 3
   },
   "file_extension": ".py",
   "mimetype": "text/x-python",
   "name": "python",
   "nbconvert_exporter": "python",
   "pygments_lexer": "ipython3",
   "version": "3.11.6"
  }
 },
 "nbformat": 4,
 "nbformat_minor": 2
}
