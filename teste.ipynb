{
 "cells": [
  {
   "cell_type": "code",
   "execution_count": 1,
   "metadata": {},
   "outputs": [],
   "source": [
    "from objetos import *\n",
    "import pandas as pd \n",
    "import random as rd"
   ]
  },
  {
   "cell_type": "code",
   "execution_count": 2,
   "metadata": {},
   "outputs": [],
   "source": [
    "# input_file=input(\"Please insert the name of the file\")\n",
    "\n",
    "df= pd.read_excel(\"Teste.xlsx\",header=0)\n"
   ]
  },
  {
   "cell_type": "code",
   "execution_count": 10,
   "metadata": {},
   "outputs": [
    {
     "data": {
      "text/html": [
       "<div>\n",
       "<style scoped>\n",
       "    .dataframe tbody tr th:only-of-type {\n",
       "        vertical-align: middle;\n",
       "    }\n",
       "\n",
       "    .dataframe tbody tr th {\n",
       "        vertical-align: top;\n",
       "    }\n",
       "\n",
       "    .dataframe thead th {\n",
       "        text-align: right;\n",
       "    }\n",
       "</style>\n",
       "<table border=\"1\" class=\"dataframe\">\n",
       "  <thead>\n",
       "    <tr style=\"text-align: right;\">\n",
       "      <th></th>\n",
       "      <th>Component</th>\n",
       "      <th>Attribute</th>\n",
       "      <th>Prob_of_Failure</th>\n",
       "    </tr>\n",
       "  </thead>\n",
       "  <tbody>\n",
       "    <tr>\n",
       "      <th>0</th>\n",
       "      <td>motor</td>\n",
       "      <td>geometry</td>\n",
       "      <td>0.13</td>\n",
       "    </tr>\n",
       "    <tr>\n",
       "      <th>1</th>\n",
       "      <td>motor</td>\n",
       "      <td>material</td>\n",
       "      <td>0.05</td>\n",
       "    </tr>\n",
       "    <tr>\n",
       "      <th>2</th>\n",
       "      <td>motor</td>\n",
       "      <td>power</td>\n",
       "      <td>0.17</td>\n",
       "    </tr>\n",
       "    <tr>\n",
       "      <th>3</th>\n",
       "      <td>motor</td>\n",
       "      <td>temperature</td>\n",
       "      <td>0.25</td>\n",
       "    </tr>\n",
       "    <tr>\n",
       "      <th>4</th>\n",
       "      <td>motor</td>\n",
       "      <td>rot.speed</td>\n",
       "      <td>0.43</td>\n",
       "    </tr>\n",
       "  </tbody>\n",
       "</table>\n",
       "</div>"
      ],
      "text/plain": [
       "  Component    Attribute  Prob_of_Failure\n",
       "0     motor     geometry             0.13\n",
       "1     motor     material             0.05\n",
       "2     motor        power             0.17\n",
       "3     motor  temperature             0.25\n",
       "4     motor    rot.speed             0.43"
      ]
     },
     "execution_count": 10,
     "metadata": {},
     "output_type": "execute_result"
    }
   ],
   "source": [
    "df= pd.DataFrame(df)\n",
    "df2=df.groupby(df[\"Component\"])\n",
    "df.head()"
   ]
  },
  {
   "cell_type": "code",
   "execution_count": 4,
   "metadata": {},
   "outputs": [],
   "source": [
    "# components_unique= df['Component'].unique()\n",
    "# components_unique\n",
    "# #Creating Components Objects\n",
    "# list_comp = [Component(name=component_name) for component_name in components_unique]\n"
   ]
  },
  {
   "cell_type": "code",
   "execution_count": 13,
   "metadata": {},
   "outputs": [
    {
     "data": {
      "text/plain": [
       "{'motor': {'geometry': 0.13,\n",
       "  'material': 0.05,\n",
       "  'power': 0.17,\n",
       "  'temperature': 0.25,\n",
       "  'rot.speed': 0.43},\n",
       " 'fan': {'geometry': 0.49, 'rot.speed': 0.04, 'power': 0.5, 'material': 0.4},\n",
       " 'heater': {'geometry': 0.45,\n",
       "  'material': 0.21,\n",
       "  'power': 0.18,\n",
       "  'temperature': 0.5},\n",
       " 'nozzle': {'geometry': 0.15, 'material': 0.04, 'temperature': 0.42},\n",
       " 'body': {'material': 0.18, 'geometry': 0.25}}"
      ]
     },
     "execution_count": 13,
     "metadata": {},
     "output_type": "execute_result"
    }
   ],
   "source": [
    "relacoes={}\n",
    "\n",
    "for index, line in df.iterrows():\n",
    "    component = line['Component']\n",
    "    attribute = line['Attribute']\n",
    "    prob_failure = line['Prob_of_Failure']\n",
    "    \n",
    "    if component not in relacoes:\n",
    "        relacoes[component] = {}\n",
    "\n",
    "    \n",
    "    relacoes[component][attribute] = prob_failure\n"
   ]
  },
  {
   "cell_type": "code",
   "execution_count": 27,
   "metadata": {},
   "outputs": [
    {
     "name": "stdout",
     "output_type": "stream",
     "text": [
      "Component created named motor\n",
      "Component created named fan\n",
      "Component created named heater\n",
      "Component created named nozzle\n",
      "Component created named body\n"
     ]
    },
    {
     "data": {
      "text/plain": [
       "[<objetos.Component at 0x290996ba0d0>,\n",
       " <objetos.Component at 0x290997321d0>,\n",
       " <objetos.Component at 0x29099732dd0>,\n",
       " <objetos.Component at 0x29099753a90>,\n",
       " <objetos.Component at 0x29099752550>]"
      ]
     },
     "execution_count": 27,
     "metadata": {},
     "output_type": "execute_result"
    }
   ],
   "source": [
    "list_comp= df['Component'].unique()\n",
    "\n",
    "\n",
    "component_objects = [Component(name=comp) for comp in list_comp]\n",
    "component_objects"
   ]
  },
  {
   "cell_type": "code",
   "execution_count": 50,
   "metadata": {},
   "outputs": [
    {
     "name": "stdout",
     "output_type": "stream",
     "text": [
      "Atribute named geometry linked to motor\n",
      "Attribute created named geometry part of motor\n",
      "Atribute named material linked to motor\n",
      "Attribute created named material part of motor\n",
      "Atribute named power linked to motor\n",
      "Attribute created named power part of motor\n",
      "Atribute named temperature linked to motor\n",
      "Attribute created named temperature part of motor\n",
      "Atribute named rot.speed linked to motor\n",
      "Attribute created named rot.speed part of motor\n",
      "Atribute named geometry linked to fan\n",
      "Attribute created named geometry part of fan\n",
      "Atribute named rot.speed linked to fan\n",
      "Attribute created named rot.speed part of fan\n",
      "Atribute named power linked to fan\n",
      "Attribute created named power part of fan\n",
      "Atribute named material linked to fan\n",
      "Attribute created named material part of fan\n",
      "Atribute named geometry linked to heater\n",
      "Attribute created named geometry part of heater\n",
      "Atribute named material linked to heater\n",
      "Attribute created named material part of heater\n",
      "Atribute named power linked to heater\n",
      "Attribute created named power part of heater\n",
      "Atribute named temperature linked to heater\n",
      "Attribute created named temperature part of heater\n",
      "Atribute named geometry linked to nozzle\n",
      "Attribute created named geometry part of nozzle\n",
      "Atribute named material linked to nozzle\n",
      "Attribute created named material part of nozzle\n",
      "Atribute named temperature linked to nozzle\n",
      "Attribute created named temperature part of nozzle\n",
      "Atribute named material linked to body\n",
      "Attribute created named material part of body\n",
      "Atribute named geometry linked to body\n",
      "Attribute created named geometry part of body\n"
     ]
    }
   ],
   "source": [
    "for comp in component_objects:\n",
    "    for attr in relacoes[comp.name]:\n",
    "        Propriety(component=comp, name=attr, risk=relacoes[comp.name][attr])"
   ]
  },
  {
   "cell_type": "code",
   "execution_count": 48,
   "metadata": {},
   "outputs": [
    {
     "ename": "KeyError",
     "evalue": "'geometry'",
     "output_type": "error",
     "traceback": [
      "\u001b[1;31m---------------------------------------------------------------------------\u001b[0m",
      "\u001b[1;31mKeyError\u001b[0m                                  Traceback (most recent call last)",
      "\u001b[1;32mc:\\Users\\nicol\\OneDrive\\Área de Trabalho\\Python\\Projeto_FRANÇA\\teste.ipynb Célula 8\u001b[0m line \u001b[0;36m3\n\u001b[0;32m      <a href='vscode-notebook-cell:/c%3A/Users/nicol/OneDrive/%C3%81rea%20de%20Trabalho/Python/Projeto_FRAN%C3%87A/teste.ipynb#X15sZmlsZQ%3D%3D?line=0'>1</a>\u001b[0m \u001b[39mfor\u001b[39;00m comp \u001b[39min\u001b[39;00m component_objects: \n\u001b[0;32m      <a href='vscode-notebook-cell:/c%3A/Users/nicol/OneDrive/%C3%81rea%20de%20Trabalho/Python/Projeto_FRAN%C3%87A/teste.ipynb#X15sZmlsZQ%3D%3D?line=1'>2</a>\u001b[0m     \u001b[39mfor\u001b[39;00m attr \u001b[39min\u001b[39;00m relacoes[comp\u001b[39m.\u001b[39mname]:\n\u001b[1;32m----> <a href='vscode-notebook-cell:/c%3A/Users/nicol/OneDrive/%C3%81rea%20de%20Trabalho/Python/Projeto_FRAN%C3%87A/teste.ipynb#X15sZmlsZQ%3D%3D?line=2'>3</a>\u001b[0m         \u001b[39mprint\u001b[39m(attr, comp\u001b[39m.\u001b[39mname, relacoes[attr][comp\u001b[39m.\u001b[39mname])\n",
      "\u001b[1;31mKeyError\u001b[0m: 'geometry'"
     ]
    }
   ],
   "source": [
    "\n",
    "for comp in component_objects: \n",
    "    for attr in relacoes[comp.name]:\n",
    "        print(attr, comp.name, relacoes[attr][comp.name])"
   ]
  }
 ],
 "metadata": {
  "kernelspec": {
   "display_name": "MLearning",
   "language": "python",
   "name": "python3"
  },
  "language_info": {
   "codemirror_mode": {
    "name": "ipython",
    "version": 3
   },
   "file_extension": ".py",
   "mimetype": "text/x-python",
   "name": "python",
   "nbconvert_exporter": "python",
   "pygments_lexer": "ipython3",
   "version": "3.11.6"
  }
 },
 "nbformat": 4,
 "nbformat_minor": 2
}
