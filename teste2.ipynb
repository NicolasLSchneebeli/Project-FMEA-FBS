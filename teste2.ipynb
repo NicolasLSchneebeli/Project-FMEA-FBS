{
 "cells": [
  {
   "cell_type": "code",
   "execution_count": 25,
   "metadata": {},
   "outputs": [],
   "source": [
    "from objetos import *\n",
    "import pandas as pd \n",
    "import random as rd"
   ]
  },
  {
   "cell_type": "code",
   "execution_count": 26,
   "metadata": {},
   "outputs": [
    {
     "name": "stdout",
     "output_type": "stream",
     "text": [
      "Component created named Motor\n"
     ]
    }
   ],
   "source": [
    "\n",
    "Motor=Component(name=\"Motor\")\n"
   ]
  },
  {
   "cell_type": "code",
   "execution_count": 27,
   "metadata": {},
   "outputs": [
    {
     "name": "stdout",
     "output_type": "stream",
     "text": [
      "Atribute named Geometry linked to Motor\n",
      "Propriety created named Geometry part of Motor\n",
      "Atribute named Material linked to Motor\n",
      "Propriety created named Material part of Motor\n",
      "There are [<objetos.Propriety object at 0x000001EFBD4A7810>, <objetos.Propriety object at 0x000001EFBD4A5C90>] atributes linked to Motor\n"
     ]
    },
    {
     "ename": "AttributeError",
     "evalue": "'Component' object has no attribute 'atribute'",
     "output_type": "error",
     "traceback": [
      "\u001b[1;31m---------------------------------------------------------------------------\u001b[0m",
      "\u001b[1;31mAttributeError\u001b[0m                            Traceback (most recent call last)",
      "\u001b[1;32mc:\\Users\\nicol\\OneDrive\\Área de Trabalho\\Python\\Projeto_FRANÇA\\teste2.ipynb Célula 3\u001b[0m line \u001b[0;36m5\n\u001b[0;32m      <a href='vscode-notebook-cell:/c%3A/Users/nicol/OneDrive/%C3%81rea%20de%20Trabalho/Python/Projeto_FRAN%C3%87A/teste2.ipynb#X10sZmlsZQ%3D%3D?line=0'>1</a>\u001b[0m GeometryMotor\u001b[39m=\u001b[39mPropriety(name\u001b[39m=\u001b[39m\u001b[39m\"\u001b[39m\u001b[39mGeometry\u001b[39m\u001b[39m\"\u001b[39m, component\u001b[39m=\u001b[39mMotor,risk\u001b[39m=\u001b[39m\u001b[39m10\u001b[39m)\n\u001b[0;32m      <a href='vscode-notebook-cell:/c%3A/Users/nicol/OneDrive/%C3%81rea%20de%20Trabalho/Python/Projeto_FRAN%C3%87A/teste2.ipynb#X10sZmlsZQ%3D%3D?line=1'>2</a>\u001b[0m MaterialMotor\u001b[39m=\u001b[39mPropriety(name\u001b[39m=\u001b[39m\u001b[39m\"\u001b[39m\u001b[39mMaterial\u001b[39m\u001b[39m\"\u001b[39m, component\u001b[39m=\u001b[39mMotor,risk\u001b[39m=\u001b[39m\u001b[39m10\u001b[39m)\n\u001b[1;32m----> <a href='vscode-notebook-cell:/c%3A/Users/nicol/OneDrive/%C3%81rea%20de%20Trabalho/Python/Projeto_FRAN%C3%87A/teste2.ipynb#X10sZmlsZQ%3D%3D?line=4'>5</a>\u001b[0m Motor\u001b[39m.\u001b[39;49mgetAttribute()\n",
      "File \u001b[1;32mc:\\Users\\nicol\\OneDrive\\Área de Trabalho\\Python\\Projeto_FRANÇA\\objetos.py:65\u001b[0m, in \u001b[0;36mComponent.getAttribute\u001b[1;34m(self)\u001b[0m\n\u001b[0;32m     63\u001b[0m \u001b[39mdef\u001b[39;00m \u001b[39mgetAttribute\u001b[39m(\u001b[39mself\u001b[39m):\n\u001b[0;32m     64\u001b[0m     \u001b[39mprint\u001b[39m(\u001b[39mf\u001b[39m\u001b[39m\"\u001b[39m\u001b[39mThere are \u001b[39m\u001b[39m{\u001b[39;00m\u001b[39mself\u001b[39m\u001b[39m.\u001b[39mattribute\u001b[39m}\u001b[39;00m\u001b[39m atributes linked to \u001b[39m\u001b[39m{\u001b[39;00m\u001b[39mself\u001b[39m\u001b[39m.\u001b[39mname\u001b[39m}\u001b[39;00m\u001b[39m\"\u001b[39m)\n\u001b[1;32m---> 65\u001b[0m     \u001b[39mreturn\u001b[39;00m \u001b[39mself\u001b[39;49m\u001b[39m.\u001b[39;49matribute\n",
      "\u001b[1;31mAttributeError\u001b[0m: 'Component' object has no attribute 'atribute'"
     ]
    }
   ],
   "source": [
    "GeometryMotor=Propriety(name=\"Geometry\", component=Motor,risk=10)\n",
    "MaterialMotor=Propriety(name=\"Material\", component=Motor,risk=10)\n",
    "\n",
    "\n",
    "Motor.getAttribute()"
   ]
  },
  {
   "cell_type": "code",
   "execution_count": null,
   "metadata": {},
   "outputs": [],
   "source": [
    "Link(time=3,attribute1=GeometryMotor,attribute2=MaterialMotor,risk=100)\n",
    "comp= [Motor]"
   ]
  },
  {
   "cell_type": "code",
   "execution_count": null,
   "metadata": {},
   "outputs": [],
   "source": []
  },
  {
   "cell_type": "code",
   "execution_count": null,
   "metadata": {},
   "outputs": [],
   "source": []
  },
  {
   "cell_type": "code",
   "execution_count": null,
   "metadata": {},
   "outputs": [],
   "source": []
  }
 ],
 "metadata": {
  "kernelspec": {
   "display_name": "MLearning",
   "language": "python",
   "name": "python3"
  },
  "language_info": {
   "codemirror_mode": {
    "name": "ipython",
    "version": 3
   },
   "file_extension": ".py",
   "mimetype": "text/x-python",
   "name": "python",
   "nbconvert_exporter": "python",
   "pygments_lexer": "ipython3",
   "version": "3.11.6"
  }
 },
 "nbformat": 4,
 "nbformat_minor": 2
}
